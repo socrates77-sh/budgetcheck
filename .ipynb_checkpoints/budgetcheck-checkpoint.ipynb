{
 "cells": [
  {
   "cell_type": "code",
   "execution_count": 29,
   "metadata": {
    "scrolled": false,
    "slideshow": {
     "slide_type": "skip"
    }
   },
   "outputs": [],
   "source": [
    "from budget_utils import *\n",
    "from pylab import mpl\n",
    "import numpy as np\n",
    "import pandas as pd\n",
    "import matplotlib.pyplot as plt\n",
    "%matplotlib inline\n",
    "mpl.rcParams['font.sans-serif'] = ['SimHei']"
   ]
  },
  {
   "cell_type": "code",
   "execution_count": 30,
   "metadata": {
    "scrolled": false,
    "slideshow": {
     "slide_type": "skip"
    }
   },
   "outputs": [],
   "source": [
    "XLS_FILE = './budget.xlsx'\n",
    "BUDGET_AMOUNT = '预算数量'\n",
    "BUDGET_REVENUE = '预算收入'\n",
    "BUDGET_PROFIT = '预算毛利'\n",
    "SALE_AMOUNT = '销售数量'\n",
    "SALE_REVENUE = '销售收入'\n",
    "SALE_PROFIT = '销售毛利'"
   ]
  },
  {
   "cell_type": "code",
   "execution_count": 31,
   "metadata": {
    "scrolled": false,
    "slideshow": {
     "slide_type": "skip"
    }
   },
   "outputs": [],
   "source": [
    "df_budget_amount = pd.read_excel(XLS_FILE, sheet_name=BUDGET_AMOUNT, index_col='品名')\n",
    "df_budget_revenue = pd.read_excel(XLS_FILE, sheet_name=BUDGET_REVENUE, index_col='品名')\n",
    "df_budget_profit = pd.read_excel(XLS_FILE, sheet_name=BUDGET_PROFIT, index_col='品名')\n",
    "df_sale_amount = pd.read_excel(XLS_FILE, sheet_name=SALE_AMOUNT, index_col='品名')\n",
    "df_sale_revenue = pd.read_excel(XLS_FILE, sheet_name=SALE_REVENUE, index_col='品名')\n",
    "df_sale_profit = pd.read_excel(XLS_FILE, sheet_name=SALE_PROFIT, index_col='品名')"
   ]
  },
  {
   "cell_type": "markdown",
   "metadata": {
    "slideshow": {
     "slide_type": "slide"
    }
   },
   "source": [
    "# 总体预算执行情况"
   ]
  },
  {
   "cell_type": "code",
   "execution_count": 32,
   "metadata": {
    "scrolled": false,
    "slideshow": {
     "slide_type": "fragment"
    }
   },
   "outputs": [
    {
     "data": {
      "text/html": [
       "<style  type=\"text/css\" >\n",
       "    #T_02e636a4_42d6_11e9_b6d8_005056c00008row2_col0 {\n",
       "            color:  blue;\n",
       "        }    #T_02e636a4_42d6_11e9_b6d8_005056c00008row2_col1 {\n",
       "            color:  blue;\n",
       "        }    #T_02e636a4_42d6_11e9_b6d8_005056c00008row2_col2 {\n",
       "            color:  red;\n",
       "        }    #T_02e636a4_42d6_11e9_b6d8_005056c00008row2_col3 {\n",
       "            color:  red;\n",
       "        }    #T_02e636a4_42d6_11e9_b6d8_005056c00008row2_col4 {\n",
       "            color:  red;\n",
       "        }    #T_02e636a4_42d6_11e9_b6d8_005056c00008row2_col5 {\n",
       "            color:  red;\n",
       "        }    #T_02e636a4_42d6_11e9_b6d8_005056c00008row2_col6 {\n",
       "            color:  red;\n",
       "        }    #T_02e636a4_42d6_11e9_b6d8_005056c00008row2_col7 {\n",
       "            color:  red;\n",
       "        }    #T_02e636a4_42d6_11e9_b6d8_005056c00008row2_col8 {\n",
       "            color:  red;\n",
       "        }    #T_02e636a4_42d6_11e9_b6d8_005056c00008row2_col9 {\n",
       "            color:  red;\n",
       "        }    #T_02e636a4_42d6_11e9_b6d8_005056c00008row2_col10 {\n",
       "            color:  red;\n",
       "        }    #T_02e636a4_42d6_11e9_b6d8_005056c00008row2_col11 {\n",
       "            color:  red;\n",
       "        }</style>  \n",
       "<table id=\"T_02e636a4_42d6_11e9_b6d8_005056c00008\" > \n",
       "<thead>    <tr> \n",
       "        <th class=\"blank level0\" ></th> \n",
       "        <th class=\"col_heading level0 col0\" >1月</th> \n",
       "        <th class=\"col_heading level0 col1\" >2月</th> \n",
       "        <th class=\"col_heading level0 col2\" >3月</th> \n",
       "        <th class=\"col_heading level0 col3\" >4月</th> \n",
       "        <th class=\"col_heading level0 col4\" >5月</th> \n",
       "        <th class=\"col_heading level0 col5\" >6月</th> \n",
       "        <th class=\"col_heading level0 col6\" >7月</th> \n",
       "        <th class=\"col_heading level0 col7\" >8月</th> \n",
       "        <th class=\"col_heading level0 col8\" >9月</th> \n",
       "        <th class=\"col_heading level0 col9\" >10月</th> \n",
       "        <th class=\"col_heading level0 col10\" >11月</th> \n",
       "        <th class=\"col_heading level0 col11\" >12月</th> \n",
       "    </tr></thead> \n",
       "<tbody>    <tr> \n",
       "        <th id=\"T_02e636a4_42d6_11e9_b6d8_005056c00008level0_row0\" class=\"row_heading level0 row0\" >预算</th> \n",
       "        <td id=\"T_02e636a4_42d6_11e9_b6d8_005056c00008row0_col0\" class=\"data row0 col0\" >6650</td> \n",
       "        <td id=\"T_02e636a4_42d6_11e9_b6d8_005056c00008row0_col1\" class=\"data row0 col1\" >2510</td> \n",
       "        <td id=\"T_02e636a4_42d6_11e9_b6d8_005056c00008row0_col2\" class=\"data row0 col2\" >7750</td> \n",
       "        <td id=\"T_02e636a4_42d6_11e9_b6d8_005056c00008row0_col3\" class=\"data row0 col3\" >10490</td> \n",
       "        <td id=\"T_02e636a4_42d6_11e9_b6d8_005056c00008row0_col4\" class=\"data row0 col4\" >9290</td> \n",
       "        <td id=\"T_02e636a4_42d6_11e9_b6d8_005056c00008row0_col5\" class=\"data row0 col5\" >9520</td> \n",
       "        <td id=\"T_02e636a4_42d6_11e9_b6d8_005056c00008row0_col6\" class=\"data row0 col6\" >9430</td> \n",
       "        <td id=\"T_02e636a4_42d6_11e9_b6d8_005056c00008row0_col7\" class=\"data row0 col7\" >9530</td> \n",
       "        <td id=\"T_02e636a4_42d6_11e9_b6d8_005056c00008row0_col8\" class=\"data row0 col8\" >9540</td> \n",
       "        <td id=\"T_02e636a4_42d6_11e9_b6d8_005056c00008row0_col9\" class=\"data row0 col9\" >11350</td> \n",
       "        <td id=\"T_02e636a4_42d6_11e9_b6d8_005056c00008row0_col10\" class=\"data row0 col10\" >11150</td> \n",
       "        <td id=\"T_02e636a4_42d6_11e9_b6d8_005056c00008row0_col11\" class=\"data row0 col11\" >11350</td> \n",
       "    </tr>    <tr> \n",
       "        <th id=\"T_02e636a4_42d6_11e9_b6d8_005056c00008level0_row1\" class=\"row_heading level0 row1\" >实际</th> \n",
       "        <td id=\"T_02e636a4_42d6_11e9_b6d8_005056c00008row1_col0\" class=\"data row1 col0\" >8623</td> \n",
       "        <td id=\"T_02e636a4_42d6_11e9_b6d8_005056c00008row1_col1\" class=\"data row1 col1\" >4788</td> \n",
       "        <td id=\"T_02e636a4_42d6_11e9_b6d8_005056c00008row1_col2\" class=\"data row1 col2\" >3109</td> \n",
       "        <td id=\"T_02e636a4_42d6_11e9_b6d8_005056c00008row1_col3\" class=\"data row1 col3\" >0</td> \n",
       "        <td id=\"T_02e636a4_42d6_11e9_b6d8_005056c00008row1_col4\" class=\"data row1 col4\" >0</td> \n",
       "        <td id=\"T_02e636a4_42d6_11e9_b6d8_005056c00008row1_col5\" class=\"data row1 col5\" >0</td> \n",
       "        <td id=\"T_02e636a4_42d6_11e9_b6d8_005056c00008row1_col6\" class=\"data row1 col6\" >0</td> \n",
       "        <td id=\"T_02e636a4_42d6_11e9_b6d8_005056c00008row1_col7\" class=\"data row1 col7\" >0</td> \n",
       "        <td id=\"T_02e636a4_42d6_11e9_b6d8_005056c00008row1_col8\" class=\"data row1 col8\" >0</td> \n",
       "        <td id=\"T_02e636a4_42d6_11e9_b6d8_005056c00008row1_col9\" class=\"data row1 col9\" >0</td> \n",
       "        <td id=\"T_02e636a4_42d6_11e9_b6d8_005056c00008row1_col10\" class=\"data row1 col10\" >0</td> \n",
       "        <td id=\"T_02e636a4_42d6_11e9_b6d8_005056c00008row1_col11\" class=\"data row1 col11\" >0</td> \n",
       "    </tr>    <tr> \n",
       "        <th id=\"T_02e636a4_42d6_11e9_b6d8_005056c00008level0_row2\" class=\"row_heading level0 row2\" >完成率%</th> \n",
       "        <td id=\"T_02e636a4_42d6_11e9_b6d8_005056c00008row2_col0\" class=\"data row2 col0\" >130</td> \n",
       "        <td id=\"T_02e636a4_42d6_11e9_b6d8_005056c00008row2_col1\" class=\"data row2 col1\" >191</td> \n",
       "        <td id=\"T_02e636a4_42d6_11e9_b6d8_005056c00008row2_col2\" class=\"data row2 col2\" >40</td> \n",
       "        <td id=\"T_02e636a4_42d6_11e9_b6d8_005056c00008row2_col3\" class=\"data row2 col3\" >0</td> \n",
       "        <td id=\"T_02e636a4_42d6_11e9_b6d8_005056c00008row2_col4\" class=\"data row2 col4\" >0</td> \n",
       "        <td id=\"T_02e636a4_42d6_11e9_b6d8_005056c00008row2_col5\" class=\"data row2 col5\" >0</td> \n",
       "        <td id=\"T_02e636a4_42d6_11e9_b6d8_005056c00008row2_col6\" class=\"data row2 col6\" >0</td> \n",
       "        <td id=\"T_02e636a4_42d6_11e9_b6d8_005056c00008row2_col7\" class=\"data row2 col7\" >0</td> \n",
       "        <td id=\"T_02e636a4_42d6_11e9_b6d8_005056c00008row2_col8\" class=\"data row2 col8\" >0</td> \n",
       "        <td id=\"T_02e636a4_42d6_11e9_b6d8_005056c00008row2_col9\" class=\"data row2 col9\" >0</td> \n",
       "        <td id=\"T_02e636a4_42d6_11e9_b6d8_005056c00008row2_col10\" class=\"data row2 col10\" >0</td> \n",
       "        <td id=\"T_02e636a4_42d6_11e9_b6d8_005056c00008row2_col11\" class=\"data row2 col11\" >0</td> \n",
       "    </tr></tbody> \n",
       "</table> "
      ],
      "text/plain": [
       "<pandas.io.formats.style.Styler at 0xc31b1f0>"
      ]
     },
     "execution_count": 32,
     "metadata": {},
     "output_type": "execute_result"
    }
   ],
   "source": [
    "a = df_budget_amount.sum()\n",
    "b = df_sale_amount.sum()\n",
    "df = pd.DataFrame(index=['预算', '实际', '完成率%'], data=[a, b, b/a*100])\n",
    "df.style.applymap(color_less_than_100,\n",
    "                  subset=pd.IndexSlice['完成率%':'完成率%']).format(\"{:.0f}\")"
   ]
  },
  {
   "cell_type": "code",
   "execution_count": 33,
   "metadata": {
    "scrolled": false,
    "slideshow": {
     "slide_type": "fragment"
    }
   },
   "outputs": [
    {
     "data": {
      "image/png": "[encoded data removed]",
      "text/plain": [
       "<Figure size 1080x432 with 1 Axes>"
      ]
     },
     "metadata": {
      "needs_background": "light"
     },
     "output_type": "display_data"
    }
   ],
   "source": [
    "df.loc[['预算', '实际'], :].T.plot.bar(title='总销售数量', figsize=(15, 6));"
   ]
  },
  {
   "cell_type": "code",
   "execution_count": 34,
   "metadata": {
    "scrolled": true,
    "slideshow": {
     "slide_type": "skip"
    }
   },
   "outputs": [
    {
     "data": {
      "text/html": [
       "<style  type=\"text/css\" >\n",
       "    #T_031c89b0_42d6_11e9_9826_005056c00008row2_col0 {\n",
       "            color:  blue;\n",
       "        }    #T_031c89b0_42d6_11e9_9826_005056c00008row2_col1 {\n",
       "            color:  blue;\n",
       "        }    #T_031c89b0_42d6_11e9_9826_005056c00008row2_col2 {\n",
       "            color:  red;\n",
       "        }    #T_031c89b0_42d6_11e9_9826_005056c00008row2_col3 {\n",
       "            color:  red;\n",
       "        }    #T_031c89b0_42d6_11e9_9826_005056c00008row2_col4 {\n",
       "            color:  red;\n",
       "        }    #T_031c89b0_42d6_11e9_9826_005056c00008row2_col5 {\n",
       "            color:  red;\n",
       "        }    #T_031c89b0_42d6_11e9_9826_005056c00008row2_col6 {\n",
       "            color:  red;\n",
       "        }    #T_031c89b0_42d6_11e9_9826_005056c00008row2_col7 {\n",
       "            color:  red;\n",
       "        }    #T_031c89b0_42d6_11e9_9826_005056c00008row2_col8 {\n",
       "            color:  red;\n",
       "        }    #T_031c89b0_42d6_11e9_9826_005056c00008row2_col9 {\n",
       "            color:  red;\n",
       "        }    #T_031c89b0_42d6_11e9_9826_005056c00008row2_col10 {\n",
       "            color:  red;\n",
       "        }    #T_031c89b0_42d6_11e9_9826_005056c00008row2_col11 {\n",
       "            color:  red;\n",
       "        }</style>  \n",
       "<table id=\"T_031c89b0_42d6_11e9_9826_005056c00008\" > \n",
       "<thead>    <tr> \n",
       "        <th class=\"blank level0\" ></th> \n",
       "        <th class=\"col_heading level0 col0\" >1月</th> \n",
       "        <th class=\"col_heading level0 col1\" >2月</th> \n",
       "        <th class=\"col_heading level0 col2\" >3月</th> \n",
       "        <th class=\"col_heading level0 col3\" >4月</th> \n",
       "        <th class=\"col_heading level0 col4\" >5月</th> \n",
       "        <th class=\"col_heading level0 col5\" >6月</th> \n",
       "        <th class=\"col_heading level0 col6\" >7月</th> \n",
       "        <th class=\"col_heading level0 col7\" >8月</th> \n",
       "        <th class=\"col_heading level0 col8\" >9月</th> \n",
       "        <th class=\"col_heading level0 col9\" >10月</th> \n",
       "        <th class=\"col_heading level0 col10\" >11月</th> \n",
       "        <th class=\"col_heading level0 col11\" >12月</th> \n",
       "    </tr></thead> \n",
       "<tbody>    <tr> \n",
       "        <th id=\"T_031c89b0_42d6_11e9_9826_005056c00008level0_row0\" class=\"row_heading level0 row0\" >预算</th> \n",
       "        <td id=\"T_031c89b0_42d6_11e9_9826_005056c00008row0_col0\" class=\"data row0 col0\" >177</td> \n",
       "        <td id=\"T_031c89b0_42d6_11e9_9826_005056c00008row0_col1\" class=\"data row0 col1\" >64</td> \n",
       "        <td id=\"T_031c89b0_42d6_11e9_9826_005056c00008row0_col2\" class=\"data row0 col2\" >201</td> \n",
       "        <td id=\"T_031c89b0_42d6_11e9_9826_005056c00008row0_col3\" class=\"data row0 col3\" >266</td> \n",
       "        <td id=\"T_031c89b0_42d6_11e9_9826_005056c00008row0_col4\" class=\"data row0 col4\" >239</td> \n",
       "        <td id=\"T_031c89b0_42d6_11e9_9826_005056c00008row0_col5\" class=\"data row0 col5\" >243</td> \n",
       "        <td id=\"T_031c89b0_42d6_11e9_9826_005056c00008row0_col6\" class=\"data row0 col6\" >241</td> \n",
       "        <td id=\"T_031c89b0_42d6_11e9_9826_005056c00008row0_col7\" class=\"data row0 col7\" >244</td> \n",
       "        <td id=\"T_031c89b0_42d6_11e9_9826_005056c00008row0_col8\" class=\"data row0 col8\" >246</td> \n",
       "        <td id=\"T_031c89b0_42d6_11e9_9826_005056c00008row0_col9\" class=\"data row0 col9\" >300</td> \n",
       "        <td id=\"T_031c89b0_42d6_11e9_9826_005056c00008row0_col10\" class=\"data row0 col10\" >296</td> \n",
       "        <td id=\"T_031c89b0_42d6_11e9_9826_005056c00008row0_col11\" class=\"data row0 col11\" >300</td> \n",
       "    </tr>    <tr> \n",
       "        <th id=\"T_031c89b0_42d6_11e9_9826_005056c00008level0_row1\" class=\"row_heading level0 row1\" >实际</th> \n",
       "        <td id=\"T_031c89b0_42d6_11e9_9826_005056c00008row1_col0\" class=\"data row1 col0\" >251</td> \n",
       "        <td id=\"T_031c89b0_42d6_11e9_9826_005056c00008row1_col1\" class=\"data row1 col1\" >118</td> \n",
       "        <td id=\"T_031c89b0_42d6_11e9_9826_005056c00008row1_col2\" class=\"data row1 col2\" >63</td> \n",
       "        <td id=\"T_031c89b0_42d6_11e9_9826_005056c00008row1_col3\" class=\"data row1 col3\" >0</td> \n",
       "        <td id=\"T_031c89b0_42d6_11e9_9826_005056c00008row1_col4\" class=\"data row1 col4\" >0</td> \n",
       "        <td id=\"T_031c89b0_42d6_11e9_9826_005056c00008row1_col5\" class=\"data row1 col5\" >0</td> \n",
       "        <td id=\"T_031c89b0_42d6_11e9_9826_005056c00008row1_col6\" class=\"data row1 col6\" >0</td> \n",
       "        <td id=\"T_031c89b0_42d6_11e9_9826_005056c00008row1_col7\" class=\"data row1 col7\" >0</td> \n",
       "        <td id=\"T_031c89b0_42d6_11e9_9826_005056c00008row1_col8\" class=\"data row1 col8\" >0</td> \n",
       "        <td id=\"T_031c89b0_42d6_11e9_9826_005056c00008row1_col9\" class=\"data row1 col9\" >0</td> \n",
       "        <td id=\"T_031c89b0_42d6_11e9_9826_005056c00008row1_col10\" class=\"data row1 col10\" >0</td> \n",
       "        <td id=\"T_031c89b0_42d6_11e9_9826_005056c00008row1_col11\" class=\"data row1 col11\" >0</td> \n",
       "    </tr>    <tr> \n",
       "        <th id=\"T_031c89b0_42d6_11e9_9826_005056c00008level0_row2\" class=\"row_heading level0 row2\" >完成率%</th> \n",
       "        <td id=\"T_031c89b0_42d6_11e9_9826_005056c00008row2_col0\" class=\"data row2 col0\" >142</td> \n",
       "        <td id=\"T_031c89b0_42d6_11e9_9826_005056c00008row2_col1\" class=\"data row2 col1\" >185</td> \n",
       "        <td id=\"T_031c89b0_42d6_11e9_9826_005056c00008row2_col2\" class=\"data row2 col2\" >31</td> \n",
       "        <td id=\"T_031c89b0_42d6_11e9_9826_005056c00008row2_col3\" class=\"data row2 col3\" >0</td> \n",
       "        <td id=\"T_031c89b0_42d6_11e9_9826_005056c00008row2_col4\" class=\"data row2 col4\" >0</td> \n",
       "        <td id=\"T_031c89b0_42d6_11e9_9826_005056c00008row2_col5\" class=\"data row2 col5\" >0</td> \n",
       "        <td id=\"T_031c89b0_42d6_11e9_9826_005056c00008row2_col6\" class=\"data row2 col6\" >0</td> \n",
       "        <td id=\"T_031c89b0_42d6_11e9_9826_005056c00008row2_col7\" class=\"data row2 col7\" >0</td> \n",
       "        <td id=\"T_031c89b0_42d6_11e9_9826_005056c00008row2_col8\" class=\"data row2 col8\" >0</td> \n",
       "        <td id=\"T_031c89b0_42d6_11e9_9826_005056c00008row2_col9\" class=\"data row2 col9\" >0</td> \n",
       "        <td id=\"T_031c89b0_42d6_11e9_9826_005056c00008row2_col10\" class=\"data row2 col10\" >0</td> \n",
       "        <td id=\"T_031c89b0_42d6_11e9_9826_005056c00008row2_col11\" class=\"data row2 col11\" >0</td> \n",
       "    </tr></tbody> \n",
       "</table> "
      ],
      "text/plain": [
       "<pandas.io.formats.style.Styler at 0xc994d90>"
      ]
     },
     "execution_count": 34,
     "metadata": {},
     "output_type": "execute_result"
    }
   ],
   "source": [
    "a = df_budget_revenue.sum()\n",
    "b = df_sale_revenue.sum()\n",
    "df = pd.DataFrame(index=['预算', '实际', '完成率%'], data=[a, b, b/a*100])\n",
    "df.style.applymap(color_less_than_100,\n",
    "                  subset=pd.IndexSlice['完成率%':'完成率%']).format(\"{:.0f}\")"
   ]
  },
  {
   "cell_type": "code",
   "execution_count": 35,
   "metadata": {
    "scrolled": false,
    "slideshow": {
     "slide_type": "skip"
    }
   },
   "outputs": [
    {
     "data": {
      "image/png": "[encoded data removed]",
      "text/plain": [
       "<Figure size 1080x432 with 1 Axes>"
      ]
     },
     "metadata": {
      "needs_background": "light"
     },
     "output_type": "display_data"
    }
   ],
   "source": [
    "ax = df.loc[['预算', '实际'], :].T.plot.bar(title='总销售收入', figsize=(15, 6));\n",
    "fig = ax.get_figure()\n",
    "fig.savefig('a.png')"
   ]
  },
  {
   "cell_type": "code",
   "execution_count": 36,
   "metadata": {},
   "outputs": [
    {
     "data": {
      "text/html": [
       "<style  type=\"text/css\" >\n",
       "    #T_035a08c8_42d6_11e9_95c3_005056c00008row2_col0 {\n",
       "            color:  blue;\n",
       "        }    #T_035a08c8_42d6_11e9_95c3_005056c00008row2_col1 {\n",
       "            color:  red;\n",
       "        }    #T_035a08c8_42d6_11e9_95c3_005056c00008row2_col2 {\n",
       "            color:  red;\n",
       "        }    #T_035a08c8_42d6_11e9_95c3_005056c00008row2_col3 {\n",
       "            color:  red;\n",
       "        }    #T_035a08c8_42d6_11e9_95c3_005056c00008row2_col4 {\n",
       "            color:  red;\n",
       "        }    #T_035a08c8_42d6_11e9_95c3_005056c00008row2_col5 {\n",
       "            color:  red;\n",
       "        }    #T_035a08c8_42d6_11e9_95c3_005056c00008row2_col6 {\n",
       "            color:  red;\n",
       "        }    #T_035a08c8_42d6_11e9_95c3_005056c00008row2_col7 {\n",
       "            color:  red;\n",
       "        }    #T_035a08c8_42d6_11e9_95c3_005056c00008row2_col8 {\n",
       "            color:  red;\n",
       "        }    #T_035a08c8_42d6_11e9_95c3_005056c00008row2_col9 {\n",
       "            color:  red;\n",
       "        }    #T_035a08c8_42d6_11e9_95c3_005056c00008row2_col10 {\n",
       "            color:  red;\n",
       "        }    #T_035a08c8_42d6_11e9_95c3_005056c00008row2_col11 {\n",
       "            color:  red;\n",
       "        }</style>  \n",
       "<table id=\"T_035a08c8_42d6_11e9_95c3_005056c00008\" > \n",
       "<thead>    <tr> \n",
       "        <th class=\"blank level0\" ></th> \n",
       "        <th class=\"col_heading level0 col0\" >1月</th> \n",
       "        <th class=\"col_heading level0 col1\" >2月</th> \n",
       "        <th class=\"col_heading level0 col2\" >3月</th> \n",
       "        <th class=\"col_heading level0 col3\" >4月</th> \n",
       "        <th class=\"col_heading level0 col4\" >5月</th> \n",
       "        <th class=\"col_heading level0 col5\" >6月</th> \n",
       "        <th class=\"col_heading level0 col6\" >7月</th> \n",
       "        <th class=\"col_heading level0 col7\" >8月</th> \n",
       "        <th class=\"col_heading level0 col8\" >9月</th> \n",
       "        <th class=\"col_heading level0 col9\" >10月</th> \n",
       "        <th class=\"col_heading level0 col10\" >11月</th> \n",
       "        <th class=\"col_heading level0 col11\" >12月</th> \n",
       "    </tr></thead> \n",
       "<tbody>    <tr> \n",
       "        <th id=\"T_035a08c8_42d6_11e9_95c3_005056c00008level0_row0\" class=\"row_heading level0 row0\" >预算</th> \n",
       "        <td id=\"T_035a08c8_42d6_11e9_95c3_005056c00008row0_col0\" class=\"data row0 col0\" >37</td> \n",
       "        <td id=\"T_035a08c8_42d6_11e9_95c3_005056c00008row0_col1\" class=\"data row0 col1\" >10</td> \n",
       "        <td id=\"T_035a08c8_42d6_11e9_95c3_005056c00008row0_col2\" class=\"data row0 col2\" >36</td> \n",
       "        <td id=\"T_035a08c8_42d6_11e9_95c3_005056c00008row0_col3\" class=\"data row0 col3\" >38</td> \n",
       "        <td id=\"T_035a08c8_42d6_11e9_95c3_005056c00008row0_col4\" class=\"data row0 col4\" >36</td> \n",
       "        <td id=\"T_035a08c8_42d6_11e9_95c3_005056c00008row0_col5\" class=\"data row0 col5\" >36</td> \n",
       "        <td id=\"T_035a08c8_42d6_11e9_95c3_005056c00008row0_col6\" class=\"data row0 col6\" >37</td> \n",
       "        <td id=\"T_035a08c8_42d6_11e9_95c3_005056c00008row0_col7\" class=\"data row0 col7\" >37</td> \n",
       "        <td id=\"T_035a08c8_42d6_11e9_95c3_005056c00008row0_col8\" class=\"data row0 col8\" >39</td> \n",
       "        <td id=\"T_035a08c8_42d6_11e9_95c3_005056c00008row0_col9\" class=\"data row0 col9\" >44</td> \n",
       "        <td id=\"T_035a08c8_42d6_11e9_95c3_005056c00008row0_col10\" class=\"data row0 col10\" >44</td> \n",
       "        <td id=\"T_035a08c8_42d6_11e9_95c3_005056c00008row0_col11\" class=\"data row0 col11\" >46</td> \n",
       "    </tr>    <tr> \n",
       "        <th id=\"T_035a08c8_42d6_11e9_95c3_005056c00008level0_row1\" class=\"row_heading level0 row1\" >实际</th> \n",
       "        <td id=\"T_035a08c8_42d6_11e9_95c3_005056c00008row1_col0\" class=\"data row1 col0\" >55</td> \n",
       "        <td id=\"T_035a08c8_42d6_11e9_95c3_005056c00008row1_col1\" class=\"data row1 col1\" >10</td> \n",
       "        <td id=\"T_035a08c8_42d6_11e9_95c3_005056c00008row1_col2\" class=\"data row1 col2\" >0</td> \n",
       "        <td id=\"T_035a08c8_42d6_11e9_95c3_005056c00008row1_col3\" class=\"data row1 col3\" >0</td> \n",
       "        <td id=\"T_035a08c8_42d6_11e9_95c3_005056c00008row1_col4\" class=\"data row1 col4\" >0</td> \n",
       "        <td id=\"T_035a08c8_42d6_11e9_95c3_005056c00008row1_col5\" class=\"data row1 col5\" >0</td> \n",
       "        <td id=\"T_035a08c8_42d6_11e9_95c3_005056c00008row1_col6\" class=\"data row1 col6\" >0</td> \n",
       "        <td id=\"T_035a08c8_42d6_11e9_95c3_005056c00008row1_col7\" class=\"data row1 col7\" >0</td> \n",
       "        <td id=\"T_035a08c8_42d6_11e9_95c3_005056c00008row1_col8\" class=\"data row1 col8\" >0</td> \n",
       "        <td id=\"T_035a08c8_42d6_11e9_95c3_005056c00008row1_col9\" class=\"data row1 col9\" >0</td> \n",
       "        <td id=\"T_035a08c8_42d6_11e9_95c3_005056c00008row1_col10\" class=\"data row1 col10\" >0</td> \n",
       "        <td id=\"T_035a08c8_42d6_11e9_95c3_005056c00008row1_col11\" class=\"data row1 col11\" >0</td> \n",
       "    </tr>    <tr> \n",
       "        <th id=\"T_035a08c8_42d6_11e9_95c3_005056c00008level0_row2\" class=\"row_heading level0 row2\" >完成率%</th> \n",
       "        <td id=\"T_035a08c8_42d6_11e9_95c3_005056c00008row2_col0\" class=\"data row2 col0\" >149</td> \n",
       "        <td id=\"T_035a08c8_42d6_11e9_95c3_005056c00008row2_col1\" class=\"data row2 col1\" >95</td> \n",
       "        <td id=\"T_035a08c8_42d6_11e9_95c3_005056c00008row2_col2\" class=\"data row2 col2\" >0</td> \n",
       "        <td id=\"T_035a08c8_42d6_11e9_95c3_005056c00008row2_col3\" class=\"data row2 col3\" >0</td> \n",
       "        <td id=\"T_035a08c8_42d6_11e9_95c3_005056c00008row2_col4\" class=\"data row2 col4\" >0</td> \n",
       "        <td id=\"T_035a08c8_42d6_11e9_95c3_005056c00008row2_col5\" class=\"data row2 col5\" >0</td> \n",
       "        <td id=\"T_035a08c8_42d6_11e9_95c3_005056c00008row2_col6\" class=\"data row2 col6\" >0</td> \n",
       "        <td id=\"T_035a08c8_42d6_11e9_95c3_005056c00008row2_col7\" class=\"data row2 col7\" >0</td> \n",
       "        <td id=\"T_035a08c8_42d6_11e9_95c3_005056c00008row2_col8\" class=\"data row2 col8\" >0</td> \n",
       "        <td id=\"T_035a08c8_42d6_11e9_95c3_005056c00008row2_col9\" class=\"data row2 col9\" >0</td> \n",
       "        <td id=\"T_035a08c8_42d6_11e9_95c3_005056c00008row2_col10\" class=\"data row2 col10\" >0</td> \n",
       "        <td id=\"T_035a08c8_42d6_11e9_95c3_005056c00008row2_col11\" class=\"data row2 col11\" >0</td> \n",
       "    </tr></tbody> \n",
       "</table> "
      ],
      "text/plain": [
       "<pandas.io.formats.style.Styler at 0xc994c30>"
      ]
     },
     "execution_count": 36,
     "metadata": {},
     "output_type": "execute_result"
    }
   ],
   "source": [
    "a = df_budget_profit.sum()\n",
    "b = df_sale_profit.sum()\n",
    "df = pd.DataFrame(index=['预算', '实际', '完成率%'], data=[a, b, b/a*100])\n",
    "df.style.applymap(color_less_than_100,\n",
    "                  subset=pd.IndexSlice['完成率%':'完成率%']).format(\"{:.0f}\")"
   ]
  },
  {
   "cell_type": "code",
   "execution_count": 37,
   "metadata": {},
   "outputs": [
    {
     "data": {
      "image/png": "[encoded data removed]",
      "text/plain": [
       "<Figure size 1080x432 with 1 Axes>"
      ]
     },
     "metadata": {
      "needs_background": "light"
     },
     "output_type": "display_data"
    }
   ],
   "source": [
    "df.loc[['预算', '实际'], :].T.plot.bar(title='总销售毛利', figsize=(15, 6));"
   ]
  },
  {
   "cell_type": "code",
   "execution_count": 38,
   "metadata": {},
   "outputs": [
    {
     "data": {
      "text/html": [
       "<style  type=\"text/css\" >\n",
       "    #T_038b79c0_42d6_11e9_871c_005056c00008row2_col0 {\n",
       "            color:  blue;\n",
       "        }    #T_038b79c0_42d6_11e9_871c_005056c00008row2_col1 {\n",
       "            color:  red;\n",
       "        }    #T_038b79c0_42d6_11e9_871c_005056c00008row2_col2 {\n",
       "            color:  red;\n",
       "        }    #T_038b79c0_42d6_11e9_871c_005056c00008row2_col3 {\n",
       "            color:  blue;\n",
       "        }    #T_038b79c0_42d6_11e9_871c_005056c00008row2_col4 {\n",
       "            color:  blue;\n",
       "        }    #T_038b79c0_42d6_11e9_871c_005056c00008row2_col5 {\n",
       "            color:  blue;\n",
       "        }    #T_038b79c0_42d6_11e9_871c_005056c00008row2_col6 {\n",
       "            color:  blue;\n",
       "        }    #T_038b79c0_42d6_11e9_871c_005056c00008row2_col7 {\n",
       "            color:  blue;\n",
       "        }    #T_038b79c0_42d6_11e9_871c_005056c00008row2_col8 {\n",
       "            color:  blue;\n",
       "        }    #T_038b79c0_42d6_11e9_871c_005056c00008row2_col9 {\n",
       "            color:  blue;\n",
       "        }    #T_038b79c0_42d6_11e9_871c_005056c00008row2_col10 {\n",
       "            color:  blue;\n",
       "        }    #T_038b79c0_42d6_11e9_871c_005056c00008row2_col11 {\n",
       "            color:  blue;\n",
       "        }</style>  \n",
       "<table id=\"T_038b79c0_42d6_11e9_871c_005056c00008\" > \n",
       "<thead>    <tr> \n",
       "        <th class=\"blank level0\" ></th> \n",
       "        <th class=\"col_heading level0 col0\" >1月</th> \n",
       "        <th class=\"col_heading level0 col1\" >2月</th> \n",
       "        <th class=\"col_heading level0 col2\" >3月</th> \n",
       "        <th class=\"col_heading level0 col3\" >4月</th> \n",
       "        <th class=\"col_heading level0 col4\" >5月</th> \n",
       "        <th class=\"col_heading level0 col5\" >6月</th> \n",
       "        <th class=\"col_heading level0 col6\" >7月</th> \n",
       "        <th class=\"col_heading level0 col7\" >8月</th> \n",
       "        <th class=\"col_heading level0 col8\" >9月</th> \n",
       "        <th class=\"col_heading level0 col9\" >10月</th> \n",
       "        <th class=\"col_heading level0 col10\" >11月</th> \n",
       "        <th class=\"col_heading level0 col11\" >12月</th> \n",
       "    </tr></thead> \n",
       "<tbody>    <tr> \n",
       "        <th id=\"T_038b79c0_42d6_11e9_871c_005056c00008level0_row0\" class=\"row_heading level0 row0\" >预算%</th> \n",
       "        <td id=\"T_038b79c0_42d6_11e9_871c_005056c00008row0_col0\" class=\"data row0 col0\" >21</td> \n",
       "        <td id=\"T_038b79c0_42d6_11e9_871c_005056c00008row0_col1\" class=\"data row0 col1\" >16</td> \n",
       "        <td id=\"T_038b79c0_42d6_11e9_871c_005056c00008row0_col2\" class=\"data row0 col2\" >18</td> \n",
       "        <td id=\"T_038b79c0_42d6_11e9_871c_005056c00008row0_col3\" class=\"data row0 col3\" >14</td> \n",
       "        <td id=\"T_038b79c0_42d6_11e9_871c_005056c00008row0_col4\" class=\"data row0 col4\" >15</td> \n",
       "        <td id=\"T_038b79c0_42d6_11e9_871c_005056c00008row0_col5\" class=\"data row0 col5\" >15</td> \n",
       "        <td id=\"T_038b79c0_42d6_11e9_871c_005056c00008row0_col6\" class=\"data row0 col6\" >15</td> \n",
       "        <td id=\"T_038b79c0_42d6_11e9_871c_005056c00008row0_col7\" class=\"data row0 col7\" >15</td> \n",
       "        <td id=\"T_038b79c0_42d6_11e9_871c_005056c00008row0_col8\" class=\"data row0 col8\" >16</td> \n",
       "        <td id=\"T_038b79c0_42d6_11e9_871c_005056c00008row0_col9\" class=\"data row0 col9\" >15</td> \n",
       "        <td id=\"T_038b79c0_42d6_11e9_871c_005056c00008row0_col10\" class=\"data row0 col10\" >15</td> \n",
       "        <td id=\"T_038b79c0_42d6_11e9_871c_005056c00008row0_col11\" class=\"data row0 col11\" >15</td> \n",
       "    </tr>    <tr> \n",
       "        <th id=\"T_038b79c0_42d6_11e9_871c_005056c00008level0_row1\" class=\"row_heading level0 row1\" >实际%</th> \n",
       "        <td id=\"T_038b79c0_42d6_11e9_871c_005056c00008row1_col0\" class=\"data row1 col0\" >22</td> \n",
       "        <td id=\"T_038b79c0_42d6_11e9_871c_005056c00008row1_col1\" class=\"data row1 col1\" >8</td> \n",
       "        <td id=\"T_038b79c0_42d6_11e9_871c_005056c00008row1_col2\" class=\"data row1 col2\" >0</td> \n",
       "        <td id=\"T_038b79c0_42d6_11e9_871c_005056c00008row1_col3\" class=\"data row1 col3\" >nan</td> \n",
       "        <td id=\"T_038b79c0_42d6_11e9_871c_005056c00008row1_col4\" class=\"data row1 col4\" >nan</td> \n",
       "        <td id=\"T_038b79c0_42d6_11e9_871c_005056c00008row1_col5\" class=\"data row1 col5\" >nan</td> \n",
       "        <td id=\"T_038b79c0_42d6_11e9_871c_005056c00008row1_col6\" class=\"data row1 col6\" >nan</td> \n",
       "        <td id=\"T_038b79c0_42d6_11e9_871c_005056c00008row1_col7\" class=\"data row1 col7\" >nan</td> \n",
       "        <td id=\"T_038b79c0_42d6_11e9_871c_005056c00008row1_col8\" class=\"data row1 col8\" >nan</td> \n",
       "        <td id=\"T_038b79c0_42d6_11e9_871c_005056c00008row1_col9\" class=\"data row1 col9\" >nan</td> \n",
       "        <td id=\"T_038b79c0_42d6_11e9_871c_005056c00008row1_col10\" class=\"data row1 col10\" >nan</td> \n",
       "        <td id=\"T_038b79c0_42d6_11e9_871c_005056c00008row1_col11\" class=\"data row1 col11\" >nan</td> \n",
       "    </tr>    <tr> \n",
       "        <th id=\"T_038b79c0_42d6_11e9_871c_005056c00008level0_row2\" class=\"row_heading level0 row2\" >完成率%</th> \n",
       "        <td id=\"T_038b79c0_42d6_11e9_871c_005056c00008row2_col0\" class=\"data row2 col0\" >105</td> \n",
       "        <td id=\"T_038b79c0_42d6_11e9_871c_005056c00008row2_col1\" class=\"data row2 col1\" >51</td> \n",
       "        <td id=\"T_038b79c0_42d6_11e9_871c_005056c00008row2_col2\" class=\"data row2 col2\" >0</td> \n",
       "        <td id=\"T_038b79c0_42d6_11e9_871c_005056c00008row2_col3\" class=\"data row2 col3\" >nan</td> \n",
       "        <td id=\"T_038b79c0_42d6_11e9_871c_005056c00008row2_col4\" class=\"data row2 col4\" >nan</td> \n",
       "        <td id=\"T_038b79c0_42d6_11e9_871c_005056c00008row2_col5\" class=\"data row2 col5\" >nan</td> \n",
       "        <td id=\"T_038b79c0_42d6_11e9_871c_005056c00008row2_col6\" class=\"data row2 col6\" >nan</td> \n",
       "        <td id=\"T_038b79c0_42d6_11e9_871c_005056c00008row2_col7\" class=\"data row2 col7\" >nan</td> \n",
       "        <td id=\"T_038b79c0_42d6_11e9_871c_005056c00008row2_col8\" class=\"data row2 col8\" >nan</td> \n",
       "        <td id=\"T_038b79c0_42d6_11e9_871c_005056c00008row2_col9\" class=\"data row2 col9\" >nan</td> \n",
       "        <td id=\"T_038b79c0_42d6_11e9_871c_005056c00008row2_col10\" class=\"data row2 col10\" >nan</td> \n",
       "        <td id=\"T_038b79c0_42d6_11e9_871c_005056c00008row2_col11\" class=\"data row2 col11\" >nan</td> \n",
       "    </tr></tbody> \n",
       "</table> "
      ],
      "text/plain": [
       "<pandas.io.formats.style.Styler at 0xc9943d0>"
      ]
     },
     "execution_count": 38,
     "metadata": {},
     "output_type": "execute_result"
    }
   ],
   "source": [
    "a = df_budget_profit.sum() / df_budget_revenue.sum()\n",
    "b = df_sale_profit.sum() / df_sale_revenue.sum()\n",
    "df = pd.DataFrame(index=['预算%', '实际%', '完成率%'], data=[a*100, b*100, b/a*100])\n",
    "df.style.applymap(color_less_than_100,\n",
    "                  subset=pd.IndexSlice['完成率%':'完成率%']).format(\"{:.0f}\")"
   ]
  },
  {
   "cell_type": "code",
   "execution_count": 39,
   "metadata": {},
   "outputs": [
    {
     "data": {
      "image/png": "[encoded data removed]",
      "text/plain": [
       "<Figure size 1080x432 with 1 Axes>"
      ]
     },
     "metadata": {
      "needs_background": "light"
     },
     "output_type": "display_data"
    }
   ],
   "source": [
    "df.loc[['预算%', '实际%'], :].T.plot.bar(title='总销售毛利率', figsize=(15, 6));"
   ]
  },
  {
   "cell_type": "code",
   "execution_count": 40,
   "metadata": {
    "scrolled": false
   },
   "outputs": [
    {
     "data": {
      "image/png": "[encoded data removed]",
      "text/plain": [
       "<Figure size 1080x432 with 1 Axes>"
      ]
     },
     "metadata": {
      "needs_background": "light"
     },
     "output_type": "display_data"
    }
   ],
   "source": [
    "df_sale_revenue.T.plot.bar(\n",
    "    title='按产品累计销售收入', legend=True, stacked=True, figsize=(15, 6));"
   ]
  },
  {
   "cell_type": "code",
   "execution_count": 41,
   "metadata": {},
   "outputs": [
    {
     "data": {
      "image/png": "[encoded data removed]",
      "text/plain": [
       "<Figure size 1080x432 with 1 Axes>"
      ]
     },
     "metadata": {
      "needs_background": "light"
     },
     "output_type": "display_data"
    }
   ],
   "source": [
    "df_sale_profit.T.plot.bar(\n",
    "    title='按产品累计销售毛利', legend=True, stacked=True, figsize=(15, 6));"
   ]
  },
  {
   "cell_type": "markdown",
   "metadata": {},
   "source": [
    "# 单一产品预算执行情况"
   ]
  },
  {
   "cell_type": "code",
   "execution_count": 42,
   "metadata": {
    "scrolled": false
   },
   "outputs": [],
   "source": [
    "product = '7022'"
   ]
  },
  {
   "cell_type": "code",
   "execution_count": 43,
   "metadata": {
    "scrolled": false
   },
   "outputs": [
    {
     "data": {
      "text/html": [
       "<style  type=\"text/css\" >\n",
       "    #T_04739336_42d6_11e9_ad35_005056c00008row2_col0 {\n",
       "            color:  blue;\n",
       "        }    #T_04739336_42d6_11e9_ad35_005056c00008row2_col1 {\n",
       "            color:  blue;\n",
       "        }    #T_04739336_42d6_11e9_ad35_005056c00008row2_col2 {\n",
       "            color:  red;\n",
       "        }    #T_04739336_42d6_11e9_ad35_005056c00008row2_col3 {\n",
       "            color:  red;\n",
       "        }    #T_04739336_42d6_11e9_ad35_005056c00008row2_col4 {\n",
       "            color:  red;\n",
       "        }    #T_04739336_42d6_11e9_ad35_005056c00008row2_col5 {\n",
       "            color:  red;\n",
       "        }    #T_04739336_42d6_11e9_ad35_005056c00008row2_col6 {\n",
       "            color:  red;\n",
       "        }    #T_04739336_42d6_11e9_ad35_005056c00008row2_col7 {\n",
       "            color:  red;\n",
       "        }    #T_04739336_42d6_11e9_ad35_005056c00008row2_col8 {\n",
       "            color:  red;\n",
       "        }    #T_04739336_42d6_11e9_ad35_005056c00008row2_col9 {\n",
       "            color:  red;\n",
       "        }    #T_04739336_42d6_11e9_ad35_005056c00008row2_col10 {\n",
       "            color:  red;\n",
       "        }    #T_04739336_42d6_11e9_ad35_005056c00008row2_col11 {\n",
       "            color:  red;\n",
       "        }</style>  \n",
       "<table id=\"T_04739336_42d6_11e9_ad35_005056c00008\" > \n",
       "<thead>    <tr> \n",
       "        <th class=\"blank level0\" ></th> \n",
       "        <th class=\"col_heading level0 col0\" >1月</th> \n",
       "        <th class=\"col_heading level0 col1\" >2月</th> \n",
       "        <th class=\"col_heading level0 col2\" >3月</th> \n",
       "        <th class=\"col_heading level0 col3\" >4月</th> \n",
       "        <th class=\"col_heading level0 col4\" >5月</th> \n",
       "        <th class=\"col_heading level0 col5\" >6月</th> \n",
       "        <th class=\"col_heading level0 col6\" >7月</th> \n",
       "        <th class=\"col_heading level0 col7\" >8月</th> \n",
       "        <th class=\"col_heading level0 col8\" >9月</th> \n",
       "        <th class=\"col_heading level0 col9\" >10月</th> \n",
       "        <th class=\"col_heading level0 col10\" >11月</th> \n",
       "        <th class=\"col_heading level0 col11\" >12月</th> \n",
       "    </tr></thead> \n",
       "<tbody>    <tr> \n",
       "        <th id=\"T_04739336_42d6_11e9_ad35_005056c00008level0_row0\" class=\"row_heading level0 row0\" >预算</th> \n",
       "        <td id=\"T_04739336_42d6_11e9_ad35_005056c00008row0_col0\" class=\"data row0 col0\" >1100</td> \n",
       "        <td id=\"T_04739336_42d6_11e9_ad35_005056c00008row0_col1\" class=\"data row0 col1\" >500</td> \n",
       "        <td id=\"T_04739336_42d6_11e9_ad35_005056c00008row0_col2\" class=\"data row0 col2\" >1500</td> \n",
       "        <td id=\"T_04739336_42d6_11e9_ad35_005056c00008row0_col3\" class=\"data row0 col3\" >2100</td> \n",
       "        <td id=\"T_04739336_42d6_11e9_ad35_005056c00008row0_col4\" class=\"data row0 col4\" >2100</td> \n",
       "        <td id=\"T_04739336_42d6_11e9_ad35_005056c00008row0_col5\" class=\"data row0 col5\" >2100</td> \n",
       "        <td id=\"T_04739336_42d6_11e9_ad35_005056c00008row0_col6\" class=\"data row0 col6\" >2000</td> \n",
       "        <td id=\"T_04739336_42d6_11e9_ad35_005056c00008row0_col7\" class=\"data row0 col7\" >2000</td> \n",
       "        <td id=\"T_04739336_42d6_11e9_ad35_005056c00008row0_col8\" class=\"data row0 col8\" >2000</td> \n",
       "        <td id=\"T_04739336_42d6_11e9_ad35_005056c00008row0_col9\" class=\"data row0 col9\" >3000</td> \n",
       "        <td id=\"T_04739336_42d6_11e9_ad35_005056c00008row0_col10\" class=\"data row0 col10\" >3000</td> \n",
       "        <td id=\"T_04739336_42d6_11e9_ad35_005056c00008row0_col11\" class=\"data row0 col11\" >3000</td> \n",
       "    </tr>    <tr> \n",
       "        <th id=\"T_04739336_42d6_11e9_ad35_005056c00008level0_row1\" class=\"row_heading level0 row1\" >实际</th> \n",
       "        <td id=\"T_04739336_42d6_11e9_ad35_005056c00008row1_col0\" class=\"data row1 col0\" >1534</td> \n",
       "        <td id=\"T_04739336_42d6_11e9_ad35_005056c00008row1_col1\" class=\"data row1 col1\" >1100</td> \n",
       "        <td id=\"T_04739336_42d6_11e9_ad35_005056c00008row1_col2\" class=\"data row1 col2\" >60</td> \n",
       "        <td id=\"T_04739336_42d6_11e9_ad35_005056c00008row1_col3\" class=\"data row1 col3\" >0</td> \n",
       "        <td id=\"T_04739336_42d6_11e9_ad35_005056c00008row1_col4\" class=\"data row1 col4\" >0</td> \n",
       "        <td id=\"T_04739336_42d6_11e9_ad35_005056c00008row1_col5\" class=\"data row1 col5\" >0</td> \n",
       "        <td id=\"T_04739336_42d6_11e9_ad35_005056c00008row1_col6\" class=\"data row1 col6\" >0</td> \n",
       "        <td id=\"T_04739336_42d6_11e9_ad35_005056c00008row1_col7\" class=\"data row1 col7\" >0</td> \n",
       "        <td id=\"T_04739336_42d6_11e9_ad35_005056c00008row1_col8\" class=\"data row1 col8\" >0</td> \n",
       "        <td id=\"T_04739336_42d6_11e9_ad35_005056c00008row1_col9\" class=\"data row1 col9\" >0</td> \n",
       "        <td id=\"T_04739336_42d6_11e9_ad35_005056c00008row1_col10\" class=\"data row1 col10\" >0</td> \n",
       "        <td id=\"T_04739336_42d6_11e9_ad35_005056c00008row1_col11\" class=\"data row1 col11\" >0</td> \n",
       "    </tr>    <tr> \n",
       "        <th id=\"T_04739336_42d6_11e9_ad35_005056c00008level0_row2\" class=\"row_heading level0 row2\" >完成率%</th> \n",
       "        <td id=\"T_04739336_42d6_11e9_ad35_005056c00008row2_col0\" class=\"data row2 col0\" >139</td> \n",
       "        <td id=\"T_04739336_42d6_11e9_ad35_005056c00008row2_col1\" class=\"data row2 col1\" >220</td> \n",
       "        <td id=\"T_04739336_42d6_11e9_ad35_005056c00008row2_col2\" class=\"data row2 col2\" >4</td> \n",
       "        <td id=\"T_04739336_42d6_11e9_ad35_005056c00008row2_col3\" class=\"data row2 col3\" >0</td> \n",
       "        <td id=\"T_04739336_42d6_11e9_ad35_005056c00008row2_col4\" class=\"data row2 col4\" >0</td> \n",
       "        <td id=\"T_04739336_42d6_11e9_ad35_005056c00008row2_col5\" class=\"data row2 col5\" >0</td> \n",
       "        <td id=\"T_04739336_42d6_11e9_ad35_005056c00008row2_col6\" class=\"data row2 col6\" >0</td> \n",
       "        <td id=\"T_04739336_42d6_11e9_ad35_005056c00008row2_col7\" class=\"data row2 col7\" >0</td> \n",
       "        <td id=\"T_04739336_42d6_11e9_ad35_005056c00008row2_col8\" class=\"data row2 col8\" >0</td> \n",
       "        <td id=\"T_04739336_42d6_11e9_ad35_005056c00008row2_col9\" class=\"data row2 col9\" >0</td> \n",
       "        <td id=\"T_04739336_42d6_11e9_ad35_005056c00008row2_col10\" class=\"data row2 col10\" >0</td> \n",
       "        <td id=\"T_04739336_42d6_11e9_ad35_005056c00008row2_col11\" class=\"data row2 col11\" >0</td> \n",
       "    </tr></tbody> \n",
       "</table> "
      ],
      "text/plain": [
       "<pandas.io.formats.style.Styler at 0xc22c090>"
      ]
     },
     "execution_count": 43,
     "metadata": {},
     "output_type": "execute_result"
    }
   ],
   "source": [
    "a = df_budget_amount.loc[product]\n",
    "b = df_sale_amount.loc[product]\n",
    "df = pd.DataFrame(index=['预算', '实际', '完成率%'], data=[a, b, b/a*100])\n",
    "df.style.applymap(color_less_than_100,\n",
    "                  subset=pd.IndexSlice['完成率%':'完成率%']).format(\"{:.0f}\")"
   ]
  },
  {
   "cell_type": "code",
   "execution_count": 44,
   "metadata": {
    "scrolled": false
   },
   "outputs": [
    {
     "data": {
      "image/png": "[encoded data removed]",
      "text/plain": [
       "<Figure size 1080x432 with 1 Axes>"
      ]
     },
     "metadata": {
      "needs_background": "light"
     },
     "output_type": "display_data"
    }
   ],
   "source": [
    "df.loc[['预算', '实际'], :].T.plot.bar(title='%s销售数量' % product, figsize=(15, 6));"
   ]
  },
  {
   "cell_type": "code",
   "execution_count": 45,
   "metadata": {
    "scrolled": false
   },
   "outputs": [
    {
     "data": {
      "text/html": [
       "<style  type=\"text/css\" >\n",
       "    #T_04b9ec0c_42d6_11e9_b480_005056c00008row2_col0 {\n",
       "            color:  blue;\n",
       "        }    #T_04b9ec0c_42d6_11e9_b480_005056c00008row2_col1 {\n",
       "            color:  blue;\n",
       "        }    #T_04b9ec0c_42d6_11e9_b480_005056c00008row2_col2 {\n",
       "            color:  red;\n",
       "        }    #T_04b9ec0c_42d6_11e9_b480_005056c00008row2_col3 {\n",
       "            color:  red;\n",
       "        }    #T_04b9ec0c_42d6_11e9_b480_005056c00008row2_col4 {\n",
       "            color:  red;\n",
       "        }    #T_04b9ec0c_42d6_11e9_b480_005056c00008row2_col5 {\n",
       "            color:  red;\n",
       "        }    #T_04b9ec0c_42d6_11e9_b480_005056c00008row2_col6 {\n",
       "            color:  red;\n",
       "        }    #T_04b9ec0c_42d6_11e9_b480_005056c00008row2_col7 {\n",
       "            color:  red;\n",
       "        }    #T_04b9ec0c_42d6_11e9_b480_005056c00008row2_col8 {\n",
       "            color:  red;\n",
       "        }    #T_04b9ec0c_42d6_11e9_b480_005056c00008row2_col9 {\n",
       "            color:  red;\n",
       "        }    #T_04b9ec0c_42d6_11e9_b480_005056c00008row2_col10 {\n",
       "            color:  red;\n",
       "        }    #T_04b9ec0c_42d6_11e9_b480_005056c00008row2_col11 {\n",
       "            color:  red;\n",
       "        }</style>  \n",
       "<table id=\"T_04b9ec0c_42d6_11e9_b480_005056c00008\" > \n",
       "<thead>    <tr> \n",
       "        <th class=\"blank level0\" ></th> \n",
       "        <th class=\"col_heading level0 col0\" >1月</th> \n",
       "        <th class=\"col_heading level0 col1\" >2月</th> \n",
       "        <th class=\"col_heading level0 col2\" >3月</th> \n",
       "        <th class=\"col_heading level0 col3\" >4月</th> \n",
       "        <th class=\"col_heading level0 col4\" >5月</th> \n",
       "        <th class=\"col_heading level0 col5\" >6月</th> \n",
       "        <th class=\"col_heading level0 col6\" >7月</th> \n",
       "        <th class=\"col_heading level0 col7\" >8月</th> \n",
       "        <th class=\"col_heading level0 col8\" >9月</th> \n",
       "        <th class=\"col_heading level0 col9\" >10月</th> \n",
       "        <th class=\"col_heading level0 col10\" >11月</th> \n",
       "        <th class=\"col_heading level0 col11\" >12月</th> \n",
       "    </tr></thead> \n",
       "<tbody>    <tr> \n",
       "        <th id=\"T_04b9ec0c_42d6_11e9_b480_005056c00008level0_row0\" class=\"row_heading level0 row0\" >预算</th> \n",
       "        <td id=\"T_04b9ec0c_42d6_11e9_b480_005056c00008row0_col0\" class=\"data row0 col0\" >42</td> \n",
       "        <td id=\"T_04b9ec0c_42d6_11e9_b480_005056c00008row0_col1\" class=\"data row0 col1\" >19</td> \n",
       "        <td id=\"T_04b9ec0c_42d6_11e9_b480_005056c00008row0_col2\" class=\"data row0 col2\" >57</td> \n",
       "        <td id=\"T_04b9ec0c_42d6_11e9_b480_005056c00008row0_col3\" class=\"data row0 col3\" >80</td> \n",
       "        <td id=\"T_04b9ec0c_42d6_11e9_b480_005056c00008row0_col4\" class=\"data row0 col4\" >80</td> \n",
       "        <td id=\"T_04b9ec0c_42d6_11e9_b480_005056c00008row0_col5\" class=\"data row0 col5\" >80</td> \n",
       "        <td id=\"T_04b9ec0c_42d6_11e9_b480_005056c00008row0_col6\" class=\"data row0 col6\" >76</td> \n",
       "        <td id=\"T_04b9ec0c_42d6_11e9_b480_005056c00008row0_col7\" class=\"data row0 col7\" >76</td> \n",
       "        <td id=\"T_04b9ec0c_42d6_11e9_b480_005056c00008row0_col8\" class=\"data row0 col8\" >76</td> \n",
       "        <td id=\"T_04b9ec0c_42d6_11e9_b480_005056c00008row0_col9\" class=\"data row0 col9\" >114</td> \n",
       "        <td id=\"T_04b9ec0c_42d6_11e9_b480_005056c00008row0_col10\" class=\"data row0 col10\" >114</td> \n",
       "        <td id=\"T_04b9ec0c_42d6_11e9_b480_005056c00008row0_col11\" class=\"data row0 col11\" >114</td> \n",
       "    </tr>    <tr> \n",
       "        <th id=\"T_04b9ec0c_42d6_11e9_b480_005056c00008level0_row1\" class=\"row_heading level0 row1\" >实际</th> \n",
       "        <td id=\"T_04b9ec0c_42d6_11e9_b480_005056c00008row1_col0\" class=\"data row1 col0\" >58</td> \n",
       "        <td id=\"T_04b9ec0c_42d6_11e9_b480_005056c00008row1_col1\" class=\"data row1 col1\" >41</td> \n",
       "        <td id=\"T_04b9ec0c_42d6_11e9_b480_005056c00008row1_col2\" class=\"data row1 col2\" >2</td> \n",
       "        <td id=\"T_04b9ec0c_42d6_11e9_b480_005056c00008row1_col3\" class=\"data row1 col3\" >0</td> \n",
       "        <td id=\"T_04b9ec0c_42d6_11e9_b480_005056c00008row1_col4\" class=\"data row1 col4\" >0</td> \n",
       "        <td id=\"T_04b9ec0c_42d6_11e9_b480_005056c00008row1_col5\" class=\"data row1 col5\" >0</td> \n",
       "        <td id=\"T_04b9ec0c_42d6_11e9_b480_005056c00008row1_col6\" class=\"data row1 col6\" >0</td> \n",
       "        <td id=\"T_04b9ec0c_42d6_11e9_b480_005056c00008row1_col7\" class=\"data row1 col7\" >0</td> \n",
       "        <td id=\"T_04b9ec0c_42d6_11e9_b480_005056c00008row1_col8\" class=\"data row1 col8\" >0</td> \n",
       "        <td id=\"T_04b9ec0c_42d6_11e9_b480_005056c00008row1_col9\" class=\"data row1 col9\" >0</td> \n",
       "        <td id=\"T_04b9ec0c_42d6_11e9_b480_005056c00008row1_col10\" class=\"data row1 col10\" >0</td> \n",
       "        <td id=\"T_04b9ec0c_42d6_11e9_b480_005056c00008row1_col11\" class=\"data row1 col11\" >0</td> \n",
       "    </tr>    <tr> \n",
       "        <th id=\"T_04b9ec0c_42d6_11e9_b480_005056c00008level0_row2\" class=\"row_heading level0 row2\" >完成率%</th> \n",
       "        <td id=\"T_04b9ec0c_42d6_11e9_b480_005056c00008row2_col0\" class=\"data row2 col0\" >138</td> \n",
       "        <td id=\"T_04b9ec0c_42d6_11e9_b480_005056c00008row2_col1\" class=\"data row2 col1\" >216</td> \n",
       "        <td id=\"T_04b9ec0c_42d6_11e9_b480_005056c00008row2_col2\" class=\"data row2 col2\" >4</td> \n",
       "        <td id=\"T_04b9ec0c_42d6_11e9_b480_005056c00008row2_col3\" class=\"data row2 col3\" >0</td> \n",
       "        <td id=\"T_04b9ec0c_42d6_11e9_b480_005056c00008row2_col4\" class=\"data row2 col4\" >0</td> \n",
       "        <td id=\"T_04b9ec0c_42d6_11e9_b480_005056c00008row2_col5\" class=\"data row2 col5\" >0</td> \n",
       "        <td id=\"T_04b9ec0c_42d6_11e9_b480_005056c00008row2_col6\" class=\"data row2 col6\" >0</td> \n",
       "        <td id=\"T_04b9ec0c_42d6_11e9_b480_005056c00008row2_col7\" class=\"data row2 col7\" >0</td> \n",
       "        <td id=\"T_04b9ec0c_42d6_11e9_b480_005056c00008row2_col8\" class=\"data row2 col8\" >0</td> \n",
       "        <td id=\"T_04b9ec0c_42d6_11e9_b480_005056c00008row2_col9\" class=\"data row2 col9\" >0</td> \n",
       "        <td id=\"T_04b9ec0c_42d6_11e9_b480_005056c00008row2_col10\" class=\"data row2 col10\" >0</td> \n",
       "        <td id=\"T_04b9ec0c_42d6_11e9_b480_005056c00008row2_col11\" class=\"data row2 col11\" >0</td> \n",
       "    </tr></tbody> \n",
       "</table> "
      ],
      "text/plain": [
       "<pandas.io.formats.style.Styler at 0xc13fa90>"
      ]
     },
     "execution_count": 45,
     "metadata": {},
     "output_type": "execute_result"
    }
   ],
   "source": [
    "a = df_budget_revenue.loc[product]\n",
    "b = df_sale_revenue.loc[product]\n",
    "df = pd.DataFrame(index=['预算', '实际', '完成率%'], data=[a, b, b/a*100])\n",
    "df.style.applymap(color_less_than_100,\n",
    "                  subset=pd.IndexSlice['完成率%':'完成率%']).format(\"{:.0f}\")"
   ]
  },
  {
   "cell_type": "code",
   "execution_count": 46,
   "metadata": {
    "scrolled": false
   },
   "outputs": [
    {
     "data": {
      "image/png": "[encoded data removed]",
      "text/plain": [
       "<Figure size 1080x432 with 1 Axes>"
      ]
     },
     "metadata": {
      "needs_background": "light"
     },
     "output_type": "display_data"
    }
   ],
   "source": [
    "df.loc[['预算', '实际'], :].T.plot.bar(title='%s销售收入' % product, figsize=(15, 6));"
   ]
  },
  {
   "cell_type": "code",
   "execution_count": 47,
   "metadata": {},
   "outputs": [
    {
     "data": {
      "text/html": [
       "<style  type=\"text/css\" >\n",
       "    #T_04ee4342_42d6_11e9_a558_005056c00008row2_col0 {\n",
       "            color:  blue;\n",
       "        }    #T_04ee4342_42d6_11e9_a558_005056c00008row2_col1 {\n",
       "            color:  blue;\n",
       "        }    #T_04ee4342_42d6_11e9_a558_005056c00008row2_col2 {\n",
       "            color:  red;\n",
       "        }    #T_04ee4342_42d6_11e9_a558_005056c00008row2_col3 {\n",
       "            color:  red;\n",
       "        }    #T_04ee4342_42d6_11e9_a558_005056c00008row2_col4 {\n",
       "            color:  red;\n",
       "        }    #T_04ee4342_42d6_11e9_a558_005056c00008row2_col5 {\n",
       "            color:  red;\n",
       "        }    #T_04ee4342_42d6_11e9_a558_005056c00008row2_col6 {\n",
       "            color:  red;\n",
       "        }    #T_04ee4342_42d6_11e9_a558_005056c00008row2_col7 {\n",
       "            color:  red;\n",
       "        }    #T_04ee4342_42d6_11e9_a558_005056c00008row2_col8 {\n",
       "            color:  red;\n",
       "        }    #T_04ee4342_42d6_11e9_a558_005056c00008row2_col9 {\n",
       "            color:  red;\n",
       "        }    #T_04ee4342_42d6_11e9_a558_005056c00008row2_col10 {\n",
       "            color:  red;\n",
       "        }    #T_04ee4342_42d6_11e9_a558_005056c00008row2_col11 {\n",
       "            color:  red;\n",
       "        }</style>  \n",
       "<table id=\"T_04ee4342_42d6_11e9_a558_005056c00008\" > \n",
       "<thead>    <tr> \n",
       "        <th class=\"blank level0\" ></th> \n",
       "        <th class=\"col_heading level0 col0\" >1月</th> \n",
       "        <th class=\"col_heading level0 col1\" >2月</th> \n",
       "        <th class=\"col_heading level0 col2\" >3月</th> \n",
       "        <th class=\"col_heading level0 col3\" >4月</th> \n",
       "        <th class=\"col_heading level0 col4\" >5月</th> \n",
       "        <th class=\"col_heading level0 col5\" >6月</th> \n",
       "        <th class=\"col_heading level0 col6\" >7月</th> \n",
       "        <th class=\"col_heading level0 col7\" >8月</th> \n",
       "        <th class=\"col_heading level0 col8\" >9月</th> \n",
       "        <th class=\"col_heading level0 col9\" >10月</th> \n",
       "        <th class=\"col_heading level0 col10\" >11月</th> \n",
       "        <th class=\"col_heading level0 col11\" >12月</th> \n",
       "    </tr></thead> \n",
       "<tbody>    <tr> \n",
       "        <th id=\"T_04ee4342_42d6_11e9_a558_005056c00008level0_row0\" class=\"row_heading level0 row0\" >预算</th> \n",
       "        <td id=\"T_04ee4342_42d6_11e9_a558_005056c00008row0_col0\" class=\"data row0 col0\" >8</td> \n",
       "        <td id=\"T_04ee4342_42d6_11e9_a558_005056c00008row0_col1\" class=\"data row0 col1\" >4</td> \n",
       "        <td id=\"T_04ee4342_42d6_11e9_a558_005056c00008row0_col2\" class=\"data row0 col2\" >11</td> \n",
       "        <td id=\"T_04ee4342_42d6_11e9_a558_005056c00008row0_col3\" class=\"data row0 col3\" >15</td> \n",
       "        <td id=\"T_04ee4342_42d6_11e9_a558_005056c00008row0_col4\" class=\"data row0 col4\" >15</td> \n",
       "        <td id=\"T_04ee4342_42d6_11e9_a558_005056c00008row0_col5\" class=\"data row0 col5\" >15</td> \n",
       "        <td id=\"T_04ee4342_42d6_11e9_a558_005056c00008row0_col6\" class=\"data row0 col6\" >14</td> \n",
       "        <td id=\"T_04ee4342_42d6_11e9_a558_005056c00008row0_col7\" class=\"data row0 col7\" >14</td> \n",
       "        <td id=\"T_04ee4342_42d6_11e9_a558_005056c00008row0_col8\" class=\"data row0 col8\" >14</td> \n",
       "        <td id=\"T_04ee4342_42d6_11e9_a558_005056c00008row0_col9\" class=\"data row0 col9\" >22</td> \n",
       "        <td id=\"T_04ee4342_42d6_11e9_a558_005056c00008row0_col10\" class=\"data row0 col10\" >22</td> \n",
       "        <td id=\"T_04ee4342_42d6_11e9_a558_005056c00008row0_col11\" class=\"data row0 col11\" >22</td> \n",
       "    </tr>    <tr> \n",
       "        <th id=\"T_04ee4342_42d6_11e9_a558_005056c00008level0_row1\" class=\"row_heading level0 row1\" >实际</th> \n",
       "        <td id=\"T_04ee4342_42d6_11e9_a558_005056c00008row1_col0\" class=\"data row1 col0\" >11</td> \n",
       "        <td id=\"T_04ee4342_42d6_11e9_a558_005056c00008row1_col1\" class=\"data row1 col1\" >8</td> \n",
       "        <td id=\"T_04ee4342_42d6_11e9_a558_005056c00008row1_col2\" class=\"data row1 col2\" >0</td> \n",
       "        <td id=\"T_04ee4342_42d6_11e9_a558_005056c00008row1_col3\" class=\"data row1 col3\" >0</td> \n",
       "        <td id=\"T_04ee4342_42d6_11e9_a558_005056c00008row1_col4\" class=\"data row1 col4\" >0</td> \n",
       "        <td id=\"T_04ee4342_42d6_11e9_a558_005056c00008row1_col5\" class=\"data row1 col5\" >0</td> \n",
       "        <td id=\"T_04ee4342_42d6_11e9_a558_005056c00008row1_col6\" class=\"data row1 col6\" >0</td> \n",
       "        <td id=\"T_04ee4342_42d6_11e9_a558_005056c00008row1_col7\" class=\"data row1 col7\" >0</td> \n",
       "        <td id=\"T_04ee4342_42d6_11e9_a558_005056c00008row1_col8\" class=\"data row1 col8\" >0</td> \n",
       "        <td id=\"T_04ee4342_42d6_11e9_a558_005056c00008row1_col9\" class=\"data row1 col9\" >0</td> \n",
       "        <td id=\"T_04ee4342_42d6_11e9_a558_005056c00008row1_col10\" class=\"data row1 col10\" >0</td> \n",
       "        <td id=\"T_04ee4342_42d6_11e9_a558_005056c00008row1_col11\" class=\"data row1 col11\" >0</td> \n",
       "    </tr>    <tr> \n",
       "        <th id=\"T_04ee4342_42d6_11e9_a558_005056c00008level0_row2\" class=\"row_heading level0 row2\" >完成率%</th> \n",
       "        <td id=\"T_04ee4342_42d6_11e9_a558_005056c00008row2_col0\" class=\"data row2 col0\" >137</td> \n",
       "        <td id=\"T_04ee4342_42d6_11e9_a558_005056c00008row2_col1\" class=\"data row2 col1\" >213</td> \n",
       "        <td id=\"T_04ee4342_42d6_11e9_a558_005056c00008row2_col2\" class=\"data row2 col2\" >0</td> \n",
       "        <td id=\"T_04ee4342_42d6_11e9_a558_005056c00008row2_col3\" class=\"data row2 col3\" >0</td> \n",
       "        <td id=\"T_04ee4342_42d6_11e9_a558_005056c00008row2_col4\" class=\"data row2 col4\" >0</td> \n",
       "        <td id=\"T_04ee4342_42d6_11e9_a558_005056c00008row2_col5\" class=\"data row2 col5\" >0</td> \n",
       "        <td id=\"T_04ee4342_42d6_11e9_a558_005056c00008row2_col6\" class=\"data row2 col6\" >0</td> \n",
       "        <td id=\"T_04ee4342_42d6_11e9_a558_005056c00008row2_col7\" class=\"data row2 col7\" >0</td> \n",
       "        <td id=\"T_04ee4342_42d6_11e9_a558_005056c00008row2_col8\" class=\"data row2 col8\" >0</td> \n",
       "        <td id=\"T_04ee4342_42d6_11e9_a558_005056c00008row2_col9\" class=\"data row2 col9\" >0</td> \n",
       "        <td id=\"T_04ee4342_42d6_11e9_a558_005056c00008row2_col10\" class=\"data row2 col10\" >0</td> \n",
       "        <td id=\"T_04ee4342_42d6_11e9_a558_005056c00008row2_col11\" class=\"data row2 col11\" >0</td> \n",
       "    </tr></tbody> \n",
       "</table> "
      ],
      "text/plain": [
       "<pandas.io.formats.style.Styler at 0xcdfe410>"
      ]
     },
     "execution_count": 47,
     "metadata": {},
     "output_type": "execute_result"
    }
   ],
   "source": [
    "a = df_budget_profit.loc[product]\n",
    "b = df_sale_profit.loc[product]\n",
    "df = pd.DataFrame(index=['预算', '实际', '完成率%'], data=[a, b, b/a*100])\n",
    "df.style.applymap(color_less_than_100,\n",
    "                  subset=pd.IndexSlice['完成率%':'完成率%']).format(\"{:.0f}\")"
   ]
  },
  {
   "cell_type": "code",
   "execution_count": 48,
   "metadata": {
    "scrolled": false
   },
   "outputs": [
    {
     "data": {
      "image/png": "[encoded data removed]",
      "text/plain": [
       "<Figure size 1080x432 with 1 Axes>"
      ]
     },
     "metadata": {
      "needs_background": "light"
     },
     "output_type": "display_data"
    }
   ],
   "source": [
    "df.loc[['预算', '实际'], :].T.plot.bar(title='%s销售毛利' % product, figsize=(15, 6));"
   ]
  },
  {
   "cell_type": "code",
   "execution_count": 49,
   "metadata": {},
   "outputs": [
    {
     "data": {
      "text/html": [
       "<style  type=\"text/css\" >\n",
       "    #T_0526e048_42d6_11e9_a84c_005056c00008row2_col0 {\n",
       "            color:  red;\n",
       "        }    #T_0526e048_42d6_11e9_a84c_005056c00008row2_col1 {\n",
       "            color:  red;\n",
       "        }    #T_0526e048_42d6_11e9_a84c_005056c00008row2_col2 {\n",
       "            color:  red;\n",
       "        }    #T_0526e048_42d6_11e9_a84c_005056c00008row2_col3 {\n",
       "            color:  blue;\n",
       "        }    #T_0526e048_42d6_11e9_a84c_005056c00008row2_col4 {\n",
       "            color:  blue;\n",
       "        }    #T_0526e048_42d6_11e9_a84c_005056c00008row2_col5 {\n",
       "            color:  blue;\n",
       "        }    #T_0526e048_42d6_11e9_a84c_005056c00008row2_col6 {\n",
       "            color:  blue;\n",
       "        }    #T_0526e048_42d6_11e9_a84c_005056c00008row2_col7 {\n",
       "            color:  blue;\n",
       "        }    #T_0526e048_42d6_11e9_a84c_005056c00008row2_col8 {\n",
       "            color:  blue;\n",
       "        }    #T_0526e048_42d6_11e9_a84c_005056c00008row2_col9 {\n",
       "            color:  blue;\n",
       "        }    #T_0526e048_42d6_11e9_a84c_005056c00008row2_col10 {\n",
       "            color:  blue;\n",
       "        }    #T_0526e048_42d6_11e9_a84c_005056c00008row2_col11 {\n",
       "            color:  blue;\n",
       "        }</style>  \n",
       "<table id=\"T_0526e048_42d6_11e9_a84c_005056c00008\" > \n",
       "<thead>    <tr> \n",
       "        <th class=\"blank level0\" ></th> \n",
       "        <th class=\"col_heading level0 col0\" >1月</th> \n",
       "        <th class=\"col_heading level0 col1\" >2月</th> \n",
       "        <th class=\"col_heading level0 col2\" >3月</th> \n",
       "        <th class=\"col_heading level0 col3\" >4月</th> \n",
       "        <th class=\"col_heading level0 col4\" >5月</th> \n",
       "        <th class=\"col_heading level0 col5\" >6月</th> \n",
       "        <th class=\"col_heading level0 col6\" >7月</th> \n",
       "        <th class=\"col_heading level0 col7\" >8月</th> \n",
       "        <th class=\"col_heading level0 col8\" >9月</th> \n",
       "        <th class=\"col_heading level0 col9\" >10月</th> \n",
       "        <th class=\"col_heading level0 col10\" >11月</th> \n",
       "        <th class=\"col_heading level0 col11\" >12月</th> \n",
       "    </tr></thead> \n",
       "<tbody>    <tr> \n",
       "        <th id=\"T_0526e048_42d6_11e9_a84c_005056c00008level0_row0\" class=\"row_heading level0 row0\" >预算%</th> \n",
       "        <td id=\"T_0526e048_42d6_11e9_a84c_005056c00008row0_col0\" class=\"data row0 col0\" >19</td> \n",
       "        <td id=\"T_0526e048_42d6_11e9_a84c_005056c00008row0_col1\" class=\"data row0 col1\" >19</td> \n",
       "        <td id=\"T_0526e048_42d6_11e9_a84c_005056c00008row0_col2\" class=\"data row0 col2\" >19</td> \n",
       "        <td id=\"T_0526e048_42d6_11e9_a84c_005056c00008row0_col3\" class=\"data row0 col3\" >19</td> \n",
       "        <td id=\"T_0526e048_42d6_11e9_a84c_005056c00008row0_col4\" class=\"data row0 col4\" >19</td> \n",
       "        <td id=\"T_0526e048_42d6_11e9_a84c_005056c00008row0_col5\" class=\"data row0 col5\" >19</td> \n",
       "        <td id=\"T_0526e048_42d6_11e9_a84c_005056c00008row0_col6\" class=\"data row0 col6\" >19</td> \n",
       "        <td id=\"T_0526e048_42d6_11e9_a84c_005056c00008row0_col7\" class=\"data row0 col7\" >19</td> \n",
       "        <td id=\"T_0526e048_42d6_11e9_a84c_005056c00008row0_col8\" class=\"data row0 col8\" >19</td> \n",
       "        <td id=\"T_0526e048_42d6_11e9_a84c_005056c00008row0_col9\" class=\"data row0 col9\" >19</td> \n",
       "        <td id=\"T_0526e048_42d6_11e9_a84c_005056c00008row0_col10\" class=\"data row0 col10\" >19</td> \n",
       "        <td id=\"T_0526e048_42d6_11e9_a84c_005056c00008row0_col11\" class=\"data row0 col11\" >19</td> \n",
       "    </tr>    <tr> \n",
       "        <th id=\"T_0526e048_42d6_11e9_a84c_005056c00008level0_row1\" class=\"row_heading level0 row1\" >实际%</th> \n",
       "        <td id=\"T_0526e048_42d6_11e9_a84c_005056c00008row1_col0\" class=\"data row1 col0\" >19</td> \n",
       "        <td id=\"T_0526e048_42d6_11e9_a84c_005056c00008row1_col1\" class=\"data row1 col1\" >19</td> \n",
       "        <td id=\"T_0526e048_42d6_11e9_a84c_005056c00008row1_col2\" class=\"data row1 col2\" >0</td> \n",
       "        <td id=\"T_0526e048_42d6_11e9_a84c_005056c00008row1_col3\" class=\"data row1 col3\" >nan</td> \n",
       "        <td id=\"T_0526e048_42d6_11e9_a84c_005056c00008row1_col4\" class=\"data row1 col4\" >nan</td> \n",
       "        <td id=\"T_0526e048_42d6_11e9_a84c_005056c00008row1_col5\" class=\"data row1 col5\" >nan</td> \n",
       "        <td id=\"T_0526e048_42d6_11e9_a84c_005056c00008row1_col6\" class=\"data row1 col6\" >nan</td> \n",
       "        <td id=\"T_0526e048_42d6_11e9_a84c_005056c00008row1_col7\" class=\"data row1 col7\" >nan</td> \n",
       "        <td id=\"T_0526e048_42d6_11e9_a84c_005056c00008row1_col8\" class=\"data row1 col8\" >nan</td> \n",
       "        <td id=\"T_0526e048_42d6_11e9_a84c_005056c00008row1_col9\" class=\"data row1 col9\" >nan</td> \n",
       "        <td id=\"T_0526e048_42d6_11e9_a84c_005056c00008row1_col10\" class=\"data row1 col10\" >nan</td> \n",
       "        <td id=\"T_0526e048_42d6_11e9_a84c_005056c00008row1_col11\" class=\"data row1 col11\" >nan</td> \n",
       "    </tr>    <tr> \n",
       "        <th id=\"T_0526e048_42d6_11e9_a84c_005056c00008level0_row2\" class=\"row_heading level0 row2\" >完成率%</th> \n",
       "        <td id=\"T_0526e048_42d6_11e9_a84c_005056c00008row2_col0\" class=\"data row2 col0\" >99</td> \n",
       "        <td id=\"T_0526e048_42d6_11e9_a84c_005056c00008row2_col1\" class=\"data row2 col1\" >98</td> \n",
       "        <td id=\"T_0526e048_42d6_11e9_a84c_005056c00008row2_col2\" class=\"data row2 col2\" >0</td> \n",
       "        <td id=\"T_0526e048_42d6_11e9_a84c_005056c00008row2_col3\" class=\"data row2 col3\" >nan</td> \n",
       "        <td id=\"T_0526e048_42d6_11e9_a84c_005056c00008row2_col4\" class=\"data row2 col4\" >nan</td> \n",
       "        <td id=\"T_0526e048_42d6_11e9_a84c_005056c00008row2_col5\" class=\"data row2 col5\" >nan</td> \n",
       "        <td id=\"T_0526e048_42d6_11e9_a84c_005056c00008row2_col6\" class=\"data row2 col6\" >nan</td> \n",
       "        <td id=\"T_0526e048_42d6_11e9_a84c_005056c00008row2_col7\" class=\"data row2 col7\" >nan</td> \n",
       "        <td id=\"T_0526e048_42d6_11e9_a84c_005056c00008row2_col8\" class=\"data row2 col8\" >nan</td> \n",
       "        <td id=\"T_0526e048_42d6_11e9_a84c_005056c00008row2_col9\" class=\"data row2 col9\" >nan</td> \n",
       "        <td id=\"T_0526e048_42d6_11e9_a84c_005056c00008row2_col10\" class=\"data row2 col10\" >nan</td> \n",
       "        <td id=\"T_0526e048_42d6_11e9_a84c_005056c00008row2_col11\" class=\"data row2 col11\" >nan</td> \n",
       "    </tr></tbody> \n",
       "</table> "
      ],
      "text/plain": [
       "<pandas.io.formats.style.Styler at 0xc944c70>"
      ]
     },
     "execution_count": 49,
     "metadata": {},
     "output_type": "execute_result"
    }
   ],
   "source": [
    "a = df_budget_profit.loc[product] / df_budget_revenue.loc[product]\n",
    "b = df_sale_profit.loc[product] / df_sale_revenue.loc[product]\n",
    "df = pd.DataFrame(index=['预算%', '实际%', '完成率%'], data=[a*100, b*100, b/a*100])\n",
    "df.style.applymap(color_less_than_100,\n",
    "                  subset=pd.IndexSlice['完成率%':'完成率%']).format(\"{:.0f}\")"
   ]
  },
  {
   "cell_type": "code",
   "execution_count": 50,
   "metadata": {},
   "outputs": [
    {
     "data": {
      "image/png": "[encoded data removed]",
      "text/plain": [
       "<Figure size 1080x432 with 1 Axes>"
      ]
     },
     "metadata": {
      "needs_background": "light"
     },
     "output_type": "display_data"
    }
   ],
   "source": [
    "df.loc[['预算%', '实际%'], :].T.plot.bar(title='%s销售毛利率' % product, figsize=(15, 6));"
   ]
  },
  {
   "cell_type": "markdown",
   "metadata": {},
   "source": [
    "# 按时间段预算执行情况"
   ]
  },
  {
   "cell_type": "code",
   "execution_count": 51,
   "metadata": {
    "scrolled": true
   },
   "outputs": [],
   "source": [
    "start = '1月'\n",
    "end = '2月'"
   ]
  },
  {
   "cell_type": "code",
   "execution_count": 52,
   "metadata": {
    "scrolled": false
   },
   "outputs": [
    {
     "data": {
      "text/html": [
       "<style  type=\"text/css\" >\n",
       "    #T_05777276_42d6_11e9_bde5_005056c00008row2_col0 {\n",
       "            color:  red;\n",
       "        }    #T_05777276_42d6_11e9_bde5_005056c00008row2_col1 {\n",
       "            color:  blue;\n",
       "        }    #T_05777276_42d6_11e9_bde5_005056c00008row2_col2 {\n",
       "            color:  red;\n",
       "        }    #T_05777276_42d6_11e9_bde5_005056c00008row2_col3 {\n",
       "            color:  blue;\n",
       "        }    #T_05777276_42d6_11e9_bde5_005056c00008row2_col4 {\n",
       "            color:  blue;\n",
       "        }    #T_05777276_42d6_11e9_bde5_005056c00008row2_col5 {\n",
       "            color:  red;\n",
       "        }    #T_05777276_42d6_11e9_bde5_005056c00008row2_col6 {\n",
       "            color:  red;\n",
       "        }    #T_05777276_42d6_11e9_bde5_005056c00008row2_col7 {\n",
       "            color:  blue;\n",
       "        }    #T_05777276_42d6_11e9_bde5_005056c00008row2_col8 {\n",
       "            color:  red;\n",
       "        }</style>  \n",
       "<table id=\"T_05777276_42d6_11e9_bde5_005056c00008\" > \n",
       "<thead>    <tr> \n",
       "        <th class=\"index_name level0\" >品名</th> \n",
       "        <th class=\"col_heading level0 col0\" >9006</th> \n",
       "        <th class=\"col_heading level0 col1\" >3112</th> \n",
       "        <th class=\"col_heading level0 col2\" >HY090</th> \n",
       "        <th class=\"col_heading level0 col3\" >7022</th> \n",
       "        <th class=\"col_heading level0 col4\" >7323</th> \n",
       "        <th class=\"col_heading level0 col5\" >6090</th> \n",
       "        <th class=\"col_heading level0 col6\" >9040</th> \n",
       "        <th class=\"col_heading level0 col7\" >5312</th> \n",
       "        <th class=\"col_heading level0 col8\" >5314</th> \n",
       "    </tr></thead> \n",
       "<tbody>    <tr> \n",
       "        <th id=\"T_05777276_42d6_11e9_bde5_005056c00008level0_row0\" class=\"row_heading level0 row0\" >预算</th> \n",
       "        <td id=\"T_05777276_42d6_11e9_bde5_005056c00008row0_col0\" class=\"data row0 col0\" >60</td> \n",
       "        <td id=\"T_05777276_42d6_11e9_bde5_005056c00008row0_col1\" class=\"data row0 col1\" >2000</td> \n",
       "        <td id=\"T_05777276_42d6_11e9_bde5_005056c00008row0_col2\" class=\"data row0 col2\" >300</td> \n",
       "        <td id=\"T_05777276_42d6_11e9_bde5_005056c00008row0_col3\" class=\"data row0 col3\" >1600</td> \n",
       "        <td id=\"T_05777276_42d6_11e9_bde5_005056c00008row0_col4\" class=\"data row0 col4\" >2000</td> \n",
       "        <td id=\"T_05777276_42d6_11e9_bde5_005056c00008row0_col5\" class=\"data row0 col5\" >1600</td> \n",
       "        <td id=\"T_05777276_42d6_11e9_bde5_005056c00008row0_col6\" class=\"data row0 col6\" >900</td> \n",
       "        <td id=\"T_05777276_42d6_11e9_bde5_005056c00008row0_col7\" class=\"data row0 col7\" >300</td> \n",
       "        <td id=\"T_05777276_42d6_11e9_bde5_005056c00008row0_col8\" class=\"data row0 col8\" >400</td> \n",
       "    </tr>    <tr> \n",
       "        <th id=\"T_05777276_42d6_11e9_bde5_005056c00008level0_row1\" class=\"row_heading level0 row1\" >实际</th> \n",
       "        <td id=\"T_05777276_42d6_11e9_bde5_005056c00008row1_col0\" class=\"data row1 col0\" >0</td> \n",
       "        <td id=\"T_05777276_42d6_11e9_bde5_005056c00008row1_col1\" class=\"data row1 col1\" >5431</td> \n",
       "        <td id=\"T_05777276_42d6_11e9_bde5_005056c00008row1_col2\" class=\"data row1 col2\" >0</td> \n",
       "        <td id=\"T_05777276_42d6_11e9_bde5_005056c00008row1_col3\" class=\"data row1 col3\" >2634</td> \n",
       "        <td id=\"T_05777276_42d6_11e9_bde5_005056c00008row1_col4\" class=\"data row1 col4\" >3372</td> \n",
       "        <td id=\"T_05777276_42d6_11e9_bde5_005056c00008row1_col5\" class=\"data row1 col5\" >910</td> \n",
       "        <td id=\"T_05777276_42d6_11e9_bde5_005056c00008row1_col6\" class=\"data row1 col6\" >339</td> \n",
       "        <td id=\"T_05777276_42d6_11e9_bde5_005056c00008row1_col7\" class=\"data row1 col7\" >396</td> \n",
       "        <td id=\"T_05777276_42d6_11e9_bde5_005056c00008row1_col8\" class=\"data row1 col8\" >329</td> \n",
       "    </tr>    <tr> \n",
       "        <th id=\"T_05777276_42d6_11e9_bde5_005056c00008level0_row2\" class=\"row_heading level0 row2\" >完成率%</th> \n",
       "        <td id=\"T_05777276_42d6_11e9_bde5_005056c00008row2_col0\" class=\"data row2 col0\" >0</td> \n",
       "        <td id=\"T_05777276_42d6_11e9_bde5_005056c00008row2_col1\" class=\"data row2 col1\" >272</td> \n",
       "        <td id=\"T_05777276_42d6_11e9_bde5_005056c00008row2_col2\" class=\"data row2 col2\" >0</td> \n",
       "        <td id=\"T_05777276_42d6_11e9_bde5_005056c00008row2_col3\" class=\"data row2 col3\" >165</td> \n",
       "        <td id=\"T_05777276_42d6_11e9_bde5_005056c00008row2_col4\" class=\"data row2 col4\" >169</td> \n",
       "        <td id=\"T_05777276_42d6_11e9_bde5_005056c00008row2_col5\" class=\"data row2 col5\" >57</td> \n",
       "        <td id=\"T_05777276_42d6_11e9_bde5_005056c00008row2_col6\" class=\"data row2 col6\" >38</td> \n",
       "        <td id=\"T_05777276_42d6_11e9_bde5_005056c00008row2_col7\" class=\"data row2 col7\" >132</td> \n",
       "        <td id=\"T_05777276_42d6_11e9_bde5_005056c00008row2_col8\" class=\"data row2 col8\" >82</td> \n",
       "    </tr></tbody> \n",
       "</table> "
      ],
      "text/plain": [
       "<pandas.io.formats.style.Styler at 0xcf84770>"
      ]
     },
     "execution_count": 52,
     "metadata": {},
     "output_type": "execute_result"
    }
   ],
   "source": [
    "a = df_budget_amount.loc[:, start:end].sum(axis=1)\n",
    "b = df_sale_amount.loc[:, start:end].sum(axis=1)\n",
    "df = pd.DataFrame(index=['预算', '实际', '完成率%'], data=[a, b, b/a*100])\n",
    "df.style.applymap(color_less_than_100,\n",
    "                  subset=pd.IndexSlice['完成率%':'完成率%']).format(\"{:.0f}\")"
   ]
  },
  {
   "cell_type": "code",
   "execution_count": 53,
   "metadata": {
    "scrolled": false
   },
   "outputs": [
    {
     "data": {
      "image/png": "[encoded data removed]",
      "text/plain": [
       "<Figure size 1080x432 with 1 Axes>"
      ]
     },
     "metadata": {
      "needs_background": "light"
     },
     "output_type": "display_data"
    }
   ],
   "source": [
    "df.loc[['预算', '实际'], :].T.plot.bar(\n",
    "    title='%s-%s销售数量' % (start, end), figsize=(15, 6));"
   ]
  },
  {
   "cell_type": "code",
   "execution_count": 54,
   "metadata": {
    "scrolled": false
   },
   "outputs": [
    {
     "data": {
      "text/html": [
       "<style  type=\"text/css\" >\n",
       "    #T_05ab7b88_42d6_11e9_94e5_005056c00008row2_col0 {\n",
       "            color:  red;\n",
       "        }    #T_05ab7b88_42d6_11e9_94e5_005056c00008row2_col1 {\n",
       "            color:  blue;\n",
       "        }    #T_05ab7b88_42d6_11e9_94e5_005056c00008row2_col2 {\n",
       "            color:  red;\n",
       "        }    #T_05ab7b88_42d6_11e9_94e5_005056c00008row2_col3 {\n",
       "            color:  blue;\n",
       "        }    #T_05ab7b88_42d6_11e9_94e5_005056c00008row2_col4 {\n",
       "            color:  blue;\n",
       "        }    #T_05ab7b88_42d6_11e9_94e5_005056c00008row2_col5 {\n",
       "            color:  red;\n",
       "        }    #T_05ab7b88_42d6_11e9_94e5_005056c00008row2_col6 {\n",
       "            color:  red;\n",
       "        }    #T_05ab7b88_42d6_11e9_94e5_005056c00008row2_col7 {\n",
       "            color:  red;\n",
       "        }    #T_05ab7b88_42d6_11e9_94e5_005056c00008row2_col8 {\n",
       "            color:  blue;\n",
       "        }</style>  \n",
       "<table id=\"T_05ab7b88_42d6_11e9_94e5_005056c00008\" > \n",
       "<thead>    <tr> \n",
       "        <th class=\"index_name level0\" >品名</th> \n",
       "        <th class=\"col_heading level0 col0\" >9006</th> \n",
       "        <th class=\"col_heading level0 col1\" >3112</th> \n",
       "        <th class=\"col_heading level0 col2\" >HY090</th> \n",
       "        <th class=\"col_heading level0 col3\" >7022</th> \n",
       "        <th class=\"col_heading level0 col4\" >7323</th> \n",
       "        <th class=\"col_heading level0 col5\" >6090</th> \n",
       "        <th class=\"col_heading level0 col6\" >9040</th> \n",
       "        <th class=\"col_heading level0 col7\" >5312</th> \n",
       "        <th class=\"col_heading level0 col8\" >5314</th> \n",
       "    </tr></thead> \n",
       "<tbody>    <tr> \n",
       "        <th id=\"T_05ab7b88_42d6_11e9_94e5_005056c00008level0_row0\" class=\"row_heading level0 row0\" >预算</th> \n",
       "        <td id=\"T_05ab7b88_42d6_11e9_94e5_005056c00008row0_col0\" class=\"data row0 col0\" >2</td> \n",
       "        <td id=\"T_05ab7b88_42d6_11e9_94e5_005056c00008row0_col1\" class=\"data row0 col1\" >42</td> \n",
       "        <td id=\"T_05ab7b88_42d6_11e9_94e5_005056c00008row0_col2\" class=\"data row0 col2\" >10</td> \n",
       "        <td id=\"T_05ab7b88_42d6_11e9_94e5_005056c00008row0_col3\" class=\"data row0 col3\" >61</td> \n",
       "        <td id=\"T_05ab7b88_42d6_11e9_94e5_005056c00008row0_col4\" class=\"data row0 col4\" >64</td> \n",
       "        <td id=\"T_05ab7b88_42d6_11e9_94e5_005056c00008row0_col5\" class=\"data row0 col5\" >20</td> \n",
       "        <td id=\"T_05ab7b88_42d6_11e9_94e5_005056c00008row0_col6\" class=\"data row0 col6\" >22</td> \n",
       "        <td id=\"T_05ab7b88_42d6_11e9_94e5_005056c00008row0_col7\" class=\"data row0 col7\" >8</td> \n",
       "        <td id=\"T_05ab7b88_42d6_11e9_94e5_005056c00008row0_col8\" class=\"data row0 col8\" >12</td> \n",
       "    </tr>    <tr> \n",
       "        <th id=\"T_05ab7b88_42d6_11e9_94e5_005056c00008level0_row1\" class=\"row_heading level0 row1\" >实际</th> \n",
       "        <td id=\"T_05ab7b88_42d6_11e9_94e5_005056c00008row1_col0\" class=\"data row1 col0\" >0</td> \n",
       "        <td id=\"T_05ab7b88_42d6_11e9_94e5_005056c00008row1_col1\" class=\"data row1 col1\" >117</td> \n",
       "        <td id=\"T_05ab7b88_42d6_11e9_94e5_005056c00008row1_col2\" class=\"data row1 col2\" >0</td> \n",
       "        <td id=\"T_05ab7b88_42d6_11e9_94e5_005056c00008row1_col3\" class=\"data row1 col3\" >99</td> \n",
       "        <td id=\"T_05ab7b88_42d6_11e9_94e5_005056c00008row1_col4\" class=\"data row1 col4\" >107</td> \n",
       "        <td id=\"T_05ab7b88_42d6_11e9_94e5_005056c00008row1_col5\" class=\"data row1 col5\" >13</td> \n",
       "        <td id=\"T_05ab7b88_42d6_11e9_94e5_005056c00008row1_col6\" class=\"data row1 col6\" >8</td> \n",
       "        <td id=\"T_05ab7b88_42d6_11e9_94e5_005056c00008row1_col7\" class=\"data row1 col7\" >5</td> \n",
       "        <td id=\"T_05ab7b88_42d6_11e9_94e5_005056c00008row1_col8\" class=\"data row1 col8\" >20</td> \n",
       "    </tr>    <tr> \n",
       "        <th id=\"T_05ab7b88_42d6_11e9_94e5_005056c00008level0_row2\" class=\"row_heading level0 row2\" >完成率%</th> \n",
       "        <td id=\"T_05ab7b88_42d6_11e9_94e5_005056c00008row2_col0\" class=\"data row2 col0\" >0</td> \n",
       "        <td id=\"T_05ab7b88_42d6_11e9_94e5_005056c00008row2_col1\" class=\"data row2 col1\" >279</td> \n",
       "        <td id=\"T_05ab7b88_42d6_11e9_94e5_005056c00008row2_col2\" class=\"data row2 col2\" >0</td> \n",
       "        <td id=\"T_05ab7b88_42d6_11e9_94e5_005056c00008row2_col3\" class=\"data row2 col3\" >162</td> \n",
       "        <td id=\"T_05ab7b88_42d6_11e9_94e5_005056c00008row2_col4\" class=\"data row2 col4\" >167</td> \n",
       "        <td id=\"T_05ab7b88_42d6_11e9_94e5_005056c00008row2_col5\" class=\"data row2 col5\" >63</td> \n",
       "        <td id=\"T_05ab7b88_42d6_11e9_94e5_005056c00008row2_col6\" class=\"data row2 col6\" >37</td> \n",
       "        <td id=\"T_05ab7b88_42d6_11e9_94e5_005056c00008row2_col7\" class=\"data row2 col7\" >66</td> \n",
       "        <td id=\"T_05ab7b88_42d6_11e9_94e5_005056c00008row2_col8\" class=\"data row2 col8\" >169</td> \n",
       "    </tr></tbody> \n",
       "</table> "
      ],
      "text/plain": [
       "<pandas.io.formats.style.Styler at 0xcf84a90>"
      ]
     },
     "execution_count": 54,
     "metadata": {},
     "output_type": "execute_result"
    }
   ],
   "source": [
    "a = df_budget_revenue.loc[:, start:end].sum(axis=1)\n",
    "b = df_sale_revenue.loc[:, start:end].sum(axis=1)\n",
    "df = pd.DataFrame(index=['预算', '实际', '完成率%'], data=[a, b, b/a*100])\n",
    "df.style.applymap(color_less_than_100,\n",
    "                  subset=pd.IndexSlice['完成率%':'完成率%']).format(\"{:.0f}\")"
   ]
  },
  {
   "cell_type": "code",
   "execution_count": 55,
   "metadata": {
    "scrolled": false
   },
   "outputs": [
    {
     "data": {
      "image/png": "[encoded data removed]",
      "text/plain": [
       "<Figure size 1080x432 with 1 Axes>"
      ]
     },
     "metadata": {
      "needs_background": "light"
     },
     "output_type": "display_data"
    }
   ],
   "source": [
    "df.loc[['预算', '实际'], :].T.plot.bar(\n",
    "    title='%s-%s销售收入' % (start, end), figsize=(15, 6));"
   ]
  },
  {
   "cell_type": "code",
   "execution_count": 56,
   "metadata": {
    "scrolled": false
   },
   "outputs": [
    {
     "data": {
      "text/html": [
       "<style  type=\"text/css\" >\n",
       "    #T_05f61a2e_42d6_11e9_ace6_005056c00008row2_col0 {\n",
       "            color:  red;\n",
       "        }    #T_05f61a2e_42d6_11e9_ace6_005056c00008row2_col1 {\n",
       "            color:  red;\n",
       "        }    #T_05f61a2e_42d6_11e9_ace6_005056c00008row2_col2 {\n",
       "            color:  red;\n",
       "        }    #T_05f61a2e_42d6_11e9_ace6_005056c00008row2_col3 {\n",
       "            color:  blue;\n",
       "        }    #T_05f61a2e_42d6_11e9_ace6_005056c00008row2_col4 {\n",
       "            color:  blue;\n",
       "        }    #T_05f61a2e_42d6_11e9_ace6_005056c00008row2_col5 {\n",
       "            color:  blue;\n",
       "        }    #T_05f61a2e_42d6_11e9_ace6_005056c00008row2_col6 {\n",
       "            color:  red;\n",
       "        }    #T_05f61a2e_42d6_11e9_ace6_005056c00008row2_col7 {\n",
       "            color:  red;\n",
       "        }    #T_05f61a2e_42d6_11e9_ace6_005056c00008row2_col8 {\n",
       "            color:  red;\n",
       "        }</style>  \n",
       "<table id=\"T_05f61a2e_42d6_11e9_ace6_005056c00008\" > \n",
       "<thead>    <tr> \n",
       "        <th class=\"index_name level0\" >品名</th> \n",
       "        <th class=\"col_heading level0 col0\" >9006</th> \n",
       "        <th class=\"col_heading level0 col1\" >3112</th> \n",
       "        <th class=\"col_heading level0 col2\" >HY090</th> \n",
       "        <th class=\"col_heading level0 col3\" >7022</th> \n",
       "        <th class=\"col_heading level0 col4\" >7323</th> \n",
       "        <th class=\"col_heading level0 col5\" >6090</th> \n",
       "        <th class=\"col_heading level0 col6\" >9040</th> \n",
       "        <th class=\"col_heading level0 col7\" >5312</th> \n",
       "        <th class=\"col_heading level0 col8\" >5314</th> \n",
       "    </tr></thead> \n",
       "<tbody>    <tr> \n",
       "        <th id=\"T_05f61a2e_42d6_11e9_ace6_005056c00008level0_row0\" class=\"row_heading level0 row0\" >预算</th> \n",
       "        <td id=\"T_05f61a2e_42d6_11e9_ace6_005056c00008row0_col0\" class=\"data row0 col0\" >0</td> \n",
       "        <td id=\"T_05f61a2e_42d6_11e9_ace6_005056c00008row0_col1\" class=\"data row0 col1\" >1</td> \n",
       "        <td id=\"T_05f61a2e_42d6_11e9_ace6_005056c00008row0_col2\" class=\"data row0 col2\" >5</td> \n",
       "        <td id=\"T_05f61a2e_42d6_11e9_ace6_005056c00008row0_col3\" class=\"data row0 col3\" >12</td> \n",
       "        <td id=\"T_05f61a2e_42d6_11e9_ace6_005056c00008row0_col4\" class=\"data row0 col4\" >23</td> \n",
       "        <td id=\"T_05f61a2e_42d6_11e9_ace6_005056c00008row0_col5\" class=\"data row0 col5\" >1</td> \n",
       "        <td id=\"T_05f61a2e_42d6_11e9_ace6_005056c00008row0_col6\" class=\"data row0 col6\" >4</td> \n",
       "        <td id=\"T_05f61a2e_42d6_11e9_ace6_005056c00008row0_col7\" class=\"data row0 col7\" >2</td> \n",
       "        <td id=\"T_05f61a2e_42d6_11e9_ace6_005056c00008row0_col8\" class=\"data row0 col8\" >-0</td> \n",
       "    </tr>    <tr> \n",
       "        <th id=\"T_05f61a2e_42d6_11e9_ace6_005056c00008level0_row1\" class=\"row_heading level0 row1\" >实际</th> \n",
       "        <td id=\"T_05f61a2e_42d6_11e9_ace6_005056c00008row1_col0\" class=\"data row1 col0\" >0</td> \n",
       "        <td id=\"T_05f61a2e_42d6_11e9_ace6_005056c00008row1_col1\" class=\"data row1 col1\" >1</td> \n",
       "        <td id=\"T_05f61a2e_42d6_11e9_ace6_005056c00008row1_col2\" class=\"data row1 col2\" >0</td> \n",
       "        <td id=\"T_05f61a2e_42d6_11e9_ace6_005056c00008row1_col3\" class=\"data row1 col3\" >19</td> \n",
       "        <td id=\"T_05f61a2e_42d6_11e9_ace6_005056c00008row1_col4\" class=\"data row1 col4\" >38</td> \n",
       "        <td id=\"T_05f61a2e_42d6_11e9_ace6_005056c00008row1_col5\" class=\"data row1 col5\" >1</td> \n",
       "        <td id=\"T_05f61a2e_42d6_11e9_ace6_005056c00008row1_col6\" class=\"data row1 col6\" >3</td> \n",
       "        <td id=\"T_05f61a2e_42d6_11e9_ace6_005056c00008row1_col7\" class=\"data row1 col7\" >1</td> \n",
       "        <td id=\"T_05f61a2e_42d6_11e9_ace6_005056c00008row1_col8\" class=\"data row1 col8\" >2</td> \n",
       "    </tr>    <tr> \n",
       "        <th id=\"T_05f61a2e_42d6_11e9_ace6_005056c00008level0_row2\" class=\"row_heading level0 row2\" >完成率%</th> \n",
       "        <td id=\"T_05f61a2e_42d6_11e9_ace6_005056c00008row2_col0\" class=\"data row2 col0\" >0</td> \n",
       "        <td id=\"T_05f61a2e_42d6_11e9_ace6_005056c00008row2_col1\" class=\"data row2 col1\" >79</td> \n",
       "        <td id=\"T_05f61a2e_42d6_11e9_ace6_005056c00008row2_col2\" class=\"data row2 col2\" >0</td> \n",
       "        <td id=\"T_05f61a2e_42d6_11e9_ace6_005056c00008row2_col3\" class=\"data row2 col3\" >161</td> \n",
       "        <td id=\"T_05f61a2e_42d6_11e9_ace6_005056c00008row2_col4\" class=\"data row2 col4\" >165</td> \n",
       "        <td id=\"T_05f61a2e_42d6_11e9_ace6_005056c00008row2_col5\" class=\"data row2 col5\" >144</td> \n",
       "        <td id=\"T_05f61a2e_42d6_11e9_ace6_005056c00008row2_col6\" class=\"data row2 col6\" >65</td> \n",
       "        <td id=\"T_05f61a2e_42d6_11e9_ace6_005056c00008row2_col7\" class=\"data row2 col7\" >67</td> \n",
       "        <td id=\"T_05f61a2e_42d6_11e9_ace6_005056c00008row2_col8\" class=\"data row2 col8\" >-2222</td> \n",
       "    </tr></tbody> \n",
       "</table> "
      ],
      "text/plain": [
       "<pandas.io.formats.style.Styler at 0xcfd7d10>"
      ]
     },
     "execution_count": 56,
     "metadata": {},
     "output_type": "execute_result"
    }
   ],
   "source": [
    "a = df_budget_profit.loc[:, start:end].sum(axis=1)\n",
    "b = df_sale_profit.loc[:, start:end].sum(axis=1)\n",
    "df = pd.DataFrame(index=['预算', '实际', '完成率%'], data=[a, b, b/a*100])\n",
    "df.style.applymap(color_less_than_100,\n",
    "                  subset=pd.IndexSlice['完成率%':'完成率%']).format(\"{:.0f}\")"
   ]
  },
  {
   "cell_type": "code",
   "execution_count": 57,
   "metadata": {},
   "outputs": [
    {
     "data": {
      "image/png": "[encoded data removed]",
      "text/plain": [
       "<Figure size 1080x432 with 1 Axes>"
      ]
     },
     "metadata": {
      "needs_background": "light"
     },
     "output_type": "display_data"
    }
   ],
   "source": [
    "df.loc[['预算', '实际'], :].T.plot.bar(\n",
    "    title='%s-%s销售毛利' % (start, end), figsize=(15, 6));"
   ]
  },
  {
   "cell_type": "code",
   "execution_count": 58,
   "metadata": {},
   "outputs": [
    {
     "ename": "NameError",
     "evalue": "name 'pd_budget_revenue' is not defined",
     "output_type": "error",
     "traceback": [
      "\u001b[1;31m---------------------------------------------------------------------------\u001b[0m",
      "\u001b[1;31mNameError\u001b[0m                                 Traceback (most recent call last)",
      "\u001b[1;32m<ipython-input-58-cb1588b095e1>\u001b[0m in \u001b[0;36m<module>\u001b[1;34m\u001b[0m\n\u001b[1;32m----> 1\u001b[1;33m \u001b[0ma\u001b[0m \u001b[1;33m=\u001b[0m \u001b[0mdf_budget_profit\u001b[0m\u001b[1;33m.\u001b[0m\u001b[0mloc\u001b[0m\u001b[1;33m[\u001b[0m\u001b[1;33m:\u001b[0m\u001b[1;33m,\u001b[0m \u001b[0mstart\u001b[0m\u001b[1;33m:\u001b[0m\u001b[0mend\u001b[0m\u001b[1;33m]\u001b[0m\u001b[1;33m.\u001b[0m\u001b[0msum\u001b[0m\u001b[1;33m(\u001b[0m\u001b[0maxis\u001b[0m\u001b[1;33m=\u001b[0m\u001b[1;36m1\u001b[0m\u001b[1;33m)\u001b[0m \u001b[1;33m/\u001b[0m \u001b[0mpd_budget_revenue\u001b[0m\u001b[1;33m.\u001b[0m\u001b[0mloc\u001b[0m\u001b[1;33m[\u001b[0m\u001b[1;33m:\u001b[0m\u001b[1;33m,\u001b[0m \u001b[0mstart\u001b[0m\u001b[1;33m:\u001b[0m\u001b[0mend\u001b[0m\u001b[1;33m]\u001b[0m\u001b[1;33m.\u001b[0m\u001b[0msum\u001b[0m\u001b[1;33m(\u001b[0m\u001b[0maxis\u001b[0m\u001b[1;33m=\u001b[0m\u001b[1;36m1\u001b[0m\u001b[1;33m)\u001b[0m\u001b[1;33m\u001b[0m\u001b[1;33m\u001b[0m\u001b[0m\n\u001b[0m\u001b[0;32m      2\u001b[0m \u001b[0mb\u001b[0m \u001b[1;33m=\u001b[0m \u001b[0mdf_sale_profit\u001b[0m\u001b[1;33m.\u001b[0m\u001b[0mloc\u001b[0m\u001b[1;33m[\u001b[0m\u001b[1;33m:\u001b[0m\u001b[1;33m,\u001b[0m \u001b[0mstart\u001b[0m\u001b[1;33m:\u001b[0m\u001b[0mend\u001b[0m\u001b[1;33m]\u001b[0m\u001b[1;33m.\u001b[0m\u001b[0msum\u001b[0m\u001b[1;33m(\u001b[0m\u001b[0maxis\u001b[0m\u001b[1;33m=\u001b[0m\u001b[1;36m1\u001b[0m\u001b[1;33m)\u001b[0m \u001b[1;33m/\u001b[0m \u001b[0mpd_sale_revenue\u001b[0m\u001b[1;33m.\u001b[0m\u001b[0mloc\u001b[0m\u001b[1;33m[\u001b[0m\u001b[1;33m:\u001b[0m\u001b[1;33m,\u001b[0m \u001b[0mstart\u001b[0m\u001b[1;33m:\u001b[0m\u001b[0mend\u001b[0m\u001b[1;33m]\u001b[0m\u001b[1;33m.\u001b[0m\u001b[0msum\u001b[0m\u001b[1;33m(\u001b[0m\u001b[0maxis\u001b[0m\u001b[1;33m=\u001b[0m\u001b[1;36m1\u001b[0m\u001b[1;33m)\u001b[0m\u001b[1;33m\u001b[0m\u001b[1;33m\u001b[0m\u001b[0m\n\u001b[0;32m      3\u001b[0m \u001b[0mdf\u001b[0m \u001b[1;33m=\u001b[0m \u001b[0mpd\u001b[0m\u001b[1;33m.\u001b[0m\u001b[0mDataFrame\u001b[0m\u001b[1;33m(\u001b[0m\u001b[0mindex\u001b[0m\u001b[1;33m=\u001b[0m\u001b[1;33m[\u001b[0m\u001b[1;34m'预算%'\u001b[0m\u001b[1;33m,\u001b[0m \u001b[1;34m'实际%'\u001b[0m\u001b[1;33m,\u001b[0m \u001b[1;34m'完成率%'\u001b[0m\u001b[1;33m]\u001b[0m\u001b[1;33m,\u001b[0m \u001b[0mdata\u001b[0m\u001b[1;33m=\u001b[0m\u001b[1;33m[\u001b[0m\u001b[0ma\u001b[0m\u001b[1;33m*\u001b[0m\u001b[1;36m100\u001b[0m\u001b[1;33m,\u001b[0m \u001b[0mb\u001b[0m\u001b[1;33m*\u001b[0m\u001b[1;36m100\u001b[0m\u001b[1;33m,\u001b[0m \u001b[0mb\u001b[0m\u001b[1;33m/\u001b[0m\u001b[0ma\u001b[0m\u001b[1;33m*\u001b[0m\u001b[1;36m100\u001b[0m\u001b[1;33m]\u001b[0m\u001b[1;33m)\u001b[0m\u001b[1;33m\u001b[0m\u001b[1;33m\u001b[0m\u001b[0m\n\u001b[0;32m      4\u001b[0m df.style.applymap(color_less_than_100,\n\u001b[0;32m      5\u001b[0m                   subset=pd.IndexSlice['完成率%':'完成率%']).format(\"{:.0f}\")\n",
      "\u001b[1;31mNameError\u001b[0m: name 'pd_budget_revenue' is not defined"
     ]
    }
   ],
   "source": [
    "a = df_budget_profit.loc[:, start:end].sum(axis=1) / df_budget_revenue.loc[:, start:end].sum(axis=1)\n",
    "b = df_sale_profit.loc[:, start:end].sum(axis=1) / df_sale_revenue.loc[:, start:end].sum(axis=1)\n",
    "df = pd.DataFrame(index=['预算%', '实际%', '完成率%'], data=[a*100, b*100, b/a*100])\n",
    "df.style.applymap(color_less_than_100,\n",
    "                  subset=pd.IndexSlice['完成率%':'完成率%']).format(\"{:.0f}\")"
   ]
  },
  {
   "cell_type": "code",
   "execution_count": null,
   "metadata": {},
   "outputs": [],
   "source": [
    "df.loc[['预算%', '实际%'], :].T.plot.bar(\n",
    "    title='%s-%s销售毛利率' % (start, end), figsize=(15, 6));"
   ]
  },
  {
   "cell_type": "code",
   "execution_count": null,
   "metadata": {},
   "outputs": [],
   "source": []
  }
 ],
 "metadata": {
  "hide_input": false,
  "kernelspec": {
   "display_name": "Python 3",
   "language": "python",
   "name": "python3"
  },
  "language_info": {
   "codemirror_mode": {
    "name": "ipython",
    "version": 3
   },
   "file_extension": ".py",
   "mimetype": "text/x-python",
   "name": "python",
   "nbconvert_exporter": "python",
   "pygments_lexer": "ipython3",
   "version": "3.7.1"
  },
  "varInspector": {
   "cols": {
    "lenName": 16,
    "lenType": 16,
    "lenVar": 40
   },
   "kernels_config": {
    "python": {
     "delete_cmd_postfix": "",
     "delete_cmd_prefix": "del ",
     "library": "var_list.py",
     "varRefreshCmd": "print(var_dic_list())"
    },
    "r": {
     "delete_cmd_postfix": ") ",
     "delete_cmd_prefix": "rm(",
     "library": "var_list.r",
     "varRefreshCmd": "cat(var_dic_list()) "
    }
   },
   "oldHeight": 122,
   "position": {
    "height": "40px",
    "left": "1096px",
    "right": "20px",
    "top": "120px",
    "width": "250px"
   },
   "types_to_exclude": [
    "module",
    "function",
    "builtin_function_or_method",
    "instance",
    "_Feature"
   ],
   "varInspector_section_display": "none",
   "window_display": false
  }
 },
 "nbformat": 4,
 "nbformat_minor": 2
}
